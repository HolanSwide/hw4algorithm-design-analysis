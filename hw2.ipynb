{
 "cells": [
  {
   "cell_type": "markdown",
   "metadata": {},
   "source": [
    "## algorithm design and anlysis-2025 spring  homework 2\n",
    "**Deadline**：2025.5.14\n",
    "\n",
    "**name**: 何宗欣 112024321341910\n",
    "\n",
    "\n",
    "note：\n",
    "---\n",
    "1. 带有\\*的题目，申请免上课的同学，必须完成，其他同学选作；\n",
    "2. 请独立完成，如求助了他人或者大模型，请著明，并且不可省略算法分析部分；\n",
    "4. 如若作答有雷同，全部取消成绩；\n",
    "3. 需要书面作答的题目，可以通过引用图片的形式添加，但是注意上传项目时包含所引用的图片的源文件；\n",
    "4. $log_n$ 默认表示$log_2{n}$;"
   ]
  },
  {
   "cell_type": "markdown",
   "metadata": {},
   "source": [
    "## 问题 1  \n",
    "\n",
    "> 给定一个已排序的链表的头 `head` ， *删除所有重复的元素，使每个元素只出现一次* 。返回 *已排序的链表* 。链表的类如下所示：\n",
    "\n",
    "```python\n",
    "class NodeList:\n",
    "    def __init__(self, val=None, right=None):\n",
    "        self.val   = val\n",
    "        self.right = right\n",
    "```\n",
    "\n",
    "输入是一个数组，你首先需要将数组转化为链表，然后删除链表中的重复元素，再遍历链表元素，以一个数组的形式返回。请设计一个算法解决上述任务，分析算法设计思路，计算时间复杂度, 并基于python编程实现。\n",
    "\n",
    "e.g.  输入：head=[1, 1, 2, 3, 3]   输出：[1, 2, 3]\n",
    "\n",
    "![image-20240502110020439](./fig/hw2q1.png)\n",
    "\n"
   ]
  },
  {
   "cell_type": "markdown",
   "metadata": {},
   "source": [
    "idea：\n",
    "\n",
    "> 链表是有序的，只需要删除重复元素即可\n",
    ">\n",
    "> 因为其有序，重复元素只可能出现在相邻节点\n",
    ">\n",
    "> 从前往后遍历，判断当前元素是否与上一个元素相同，如果相同则删除当前节点\n",
    ">\n",
    "> 只需要遍历一遍，时间复杂度 O(n)"
   ]
  },
  {
   "cell_type": "code",
   "execution_count": 6,
   "metadata": {},
   "outputs": [
    {
     "name": "stdout",
     "output_type": "stream",
     "text": [
      "[1, 2, 3]\n"
     ]
    }
   ],
   "source": [
    "# add your idea here\n",
    "# your algorithm time complexity is: O(n)\n",
    "\n",
    "class NodeList:\n",
    "    def __init__(self, val=None, right=None):\n",
    "        self.val   = val\n",
    "        self.right = right\n",
    "    \n",
    "    def equal(self, other):\n",
    "        return self.val == other.val\n",
    "    \n",
    "    def to_list(self):\n",
    "        res = []\n",
    "        while self:\n",
    "            res.append(self.val)\n",
    "            self = self.right\n",
    "        return res\n",
    "    \n",
    "def make_list(arr):\n",
    "    head = NodeList()\n",
    "    head.right = None\n",
    "    real_head = head\n",
    "    for x in arr:\n",
    "        node = NodeList(x)\n",
    "        node.right = head.right\n",
    "        head.right = node\n",
    "        head = node\n",
    "    return real_head.right\n",
    "\n",
    "def solution(head):\n",
    "    tmp = None\n",
    "    real_head = head\n",
    "    while head:\n",
    "        if tmp and head.equal(tmp):\n",
    "            tmp.right = head.right\n",
    "        else:\n",
    "            tmp = head\n",
    "        head = head.right\n",
    "    return real_head\n",
    "\n",
    "arr = [1,2,2,3,3,3]\n",
    "head = make_list(arr)\n",
    "solution(head)\n",
    "print(head.to_list())\n"
   ]
  },
  {
   "cell_type": "markdown",
   "metadata": {},
   "source": [
    "---"
   ]
  },
  {
   "cell_type": "markdown",
   "metadata": {},
   "source": [
    "## 问题 2  \n",
    "\n",
    "> 下面是一个经典的算法问题：\n",
    ">\n",
    "> - 给定包含n个整数的一个整数数组 `nums` 和一个整数目标值 `target`，请你在该数组中找出 **和为目标值** *`target`* 的那 **两个** 整数，并返回它们的**数组下标**。假设每种输入只会对应一个答案。但是，数组中同一个元素在答案里不能重复出现。你可以按任意顺序返回答案。\n",
    ">\n",
    "> 由于要多次查找数组中元素的位置，为了提高查询效率可以使用哈希表来存储数组中的数据，在哈希表中查询一个元素的复杂度为O(1)。 已知python中的字典是使用哈希表实现的，即使用`dict[key]`查询对应的value时间复杂度为O(1), python提供了查询字典是否包含某个key的功能：`key in dict`，时间复杂度也是O(1)\n",
    "\n",
    "请根据上面信息，设计一个时间复杂度为O(n) 的算法，解决上述算法问题\n",
    "\n",
    "e.g.   \n",
    "\n",
    "输入：nums=[2,7,11,15], target=9， 输出：[0，1]\n",
    "\n",
    "输入：nums=[3,2,4], target=6, 输出：[1,2]\n",
    "\n",
    "输入：nums=[3,3], target=6,  输出：[0,1]\n"
   ]
  },
  {
   "cell_type": "markdown",
   "metadata": {},
   "source": [
    "idea:\n",
    "\n",
    ">  dict 中存放 元素-下标 的 key-value\n",
    ">  \n",
    ">  遍历数组，如果 dict 中具有当前元素配对的加数，则输出\n",
    ">\n",
    ">  如果没有，则在 dict 中添加当前元素，并记录下标"
   ]
  },
  {
   "cell_type": "code",
   "execution_count": 11,
   "metadata": {},
   "outputs": [
    {
     "name": "stdout",
     "output_type": "stream",
     "text": [
      "[0, 1]\n",
      "[1, 2]\n",
      "[0, 1]\n"
     ]
    }
   ],
   "source": [
    "# add your idea here\n",
    "# your algorithm time complexity is: O(n)\n",
    "\n",
    "def solution(nums,target):\n",
    "    hashmap = {}\n",
    "    for i in range(len(nums)):\n",
    "        num = nums[i]\n",
    "        if target - num in hashmap:\n",
    "            return [hashmap[target-num],i]\n",
    "        if num not in hashmap:\n",
    "            hashmap[num] = i\n",
    "    return None\n",
    "\n",
    "arr = [2,7,11,15]\n",
    "target = 9\n",
    "print(solution(arr,target))\n",
    "\n",
    "print(solution([3,2,4],6))\n",
    "\n",
    "print(solution([3,3],6))"
   ]
  },
  {
   "cell_type": "markdown",
   "metadata": {},
   "source": [
    "---"
   ]
  },
  {
   "cell_type": "markdown",
   "metadata": {},
   "source": [
    "## 问题 3:   \n",
    "\n",
    "> 栈是一种常用的数据结构，编译器中通常使用栈来实现表达式求值。\n",
    ">\n",
    "> 以表达式 $3+5 \\times 8-6$​ 为例。编译器使用两个栈来完成运算，即一个栈保持操作数，另一个栈保存运算符。\n",
    ">\n",
    "> 1. 从左向右遍历表达式，遇到数字就压入操作数栈；\n",
    ">\n",
    "> 2. 遇到运算符，就与运算符栈的栈顶元素进行比较。如果比运算符栈顶元素的优先级高，就将当前运算符压入栈；如果比运算符栈顶元素的优先级低或者相同，从运算符栈中取栈顶运算符，从操作数栈的栈顶取 2 个操作数，然后进行计算，再把计算完的结果压入操作数栈，继续比较。\n",
    ">\n",
    "> 下图是 $3+5 \\times 8-6$  这个表达式的计算过程：\n",
    "\n",
    "![figure](./fig/hw2q3.png)\n",
    "\n",
    "根据上述原理，请设计一个算法完成表达式的运算，当输入为表达式字符串，返回对应的计算结果。分析算法设计思路，计算时间复杂度，并基于python编程实现\n",
    "\n",
    "**note：**\n",
    "\n",
    "1. 假设输入的表达式只会出现加（“+”），减 “-”， 乘“*”，除 “/” 四个运算符, 表达式中只会出现正整数\n",
    "2. python中` str.isdigit()`函数可以判断字符串str是否为数字，\n",
    "\n",
    "\n",
    "\n",
    "e.g. :\n",
    "---\n",
    "\n",
    "1. 输入：“$3+5 * 8 -6$”   输出：37\n",
    "\n",
    "2. 输入：“$34+13*9 + 44-12/3$”  输出：191"
   ]
  },
  {
   "cell_type": "markdown",
   "metadata": {},
   "source": [
    "idea：\n",
    "\n",
    "> 表达式中只有加减乘除，没有括号，可以使用两个栈分别存数据和符号\n",
    ">\n",
    "> 遇到数字，直接入数据栈\n",
    ">\n",
    "> 遇到符号，如果符号栈为空或者当前符号优先级大于等于符号栈顶的符号，则直接入符号栈\n",
    ">\n",
    "> 遇到符号，如果当前符号优先级小于符号栈顶的符号，则从数据栈中弹出两个数字，从符号栈中弹出一个符号，计算结果再入数据栈\n",
    ">\n",
    "> 优先级定义为：/ > * > - > +"
   ]
  },
  {
   "cell_type": "code",
   "execution_count": 28,
   "metadata": {},
   "outputs": [
    {
     "name": "stdout",
     "output_type": "stream",
     "text": [
      "37\n",
      "191.0\n"
     ]
    }
   ],
   "source": [
    "# add your idea here\n",
    "# your algorithm time complexity is: O(n)\n",
    "\n",
    "ops = {'+':1, '-':2, '*':3, '/':4}\n",
    "\n",
    "def comparer(a,b):\n",
    "    if a is None:\n",
    "        return True\n",
    "    if b is None:\n",
    "        return False\n",
    "    return ops[a] < ops[b]\n",
    "\n",
    "def calcu(a,b,op) -> int:\n",
    "    # print(a,b,op)\n",
    "    if op == '+':\n",
    "        return a + b\n",
    "    elif op == '-':\n",
    "        return b - a\n",
    "    elif op == '*':\n",
    "        return a * b\n",
    "    elif op == '/':\n",
    "        return b / a\n",
    "\n",
    "def solution(calstr):\n",
    "    num_stack = []\n",
    "    op_stack = []\n",
    "    last = 0\n",
    "    for c in calstr:\n",
    "        if c.isdigit():\n",
    "            if last == 0:\n",
    "                num_stack.append(int(c))\n",
    "                last = int(c)\n",
    "            else:\n",
    "                num_stack[-1] = num_stack[-1] * 10 + int(c)\n",
    "            continue\n",
    "        else:\n",
    "            last = 0\n",
    "        if len(op_stack)>0 and comparer(c, op_stack[-1]):\n",
    "            res = calcu(num_stack.pop(), num_stack.pop(), op_stack.pop())\n",
    "            num_stack.append(res)\n",
    "        op_stack.append(c)\n",
    "    while len(op_stack):\n",
    "        res = calcu(num_stack.pop(), num_stack.pop(), op_stack.pop())\n",
    "        num_stack.append(res)\n",
    "    return num_stack.pop()\n",
    "\n",
    "print(solution('3+5*8-6'))\n",
    "print(solution('34+13*9+44-12/3'))"
   ]
  },
  {
   "cell_type": "markdown",
   "metadata": {},
   "source": [
    "---"
   ]
  },
  {
   "cell_type": "markdown",
   "metadata": {},
   "source": [
    "## 问题 4:  \n",
    "\n",
    "> 星球碰撞问题：现有n个星球，在同一条直线上运行，如数组A所示，元素的绝对值表示星球的质量，负数表示星球自右向左运动，正数表示星球自左向右运动，当两个星球相撞的时候，质量小的会消失，大的保持不变，**质量相同的两个星球碰撞后自右向左运动的星球消失，自左向右的星球保持不变**，假设所有星球的速度大小相同。\n",
    ">\n",
    "> $ A=[23,-8, 9, -3, -7, 9, -23, 22] $\n",
    "\n",
    "请设计一个算法模拟星球的运行情况，输出最终的星球存续情况（输出一个数组），分析算法设计思路，计算时间复杂度，并基于python编程实现。\n",
    "\n",
    "e.g.\n",
    "---\n",
    "1.  输入： A=[-3,-6,2,8, 5,-8,9,-2,1]， 输出：[-3, -6, 2, 8, 9, 1]\n",
    "\n",
    "2. 输入：A=[23,-8, 9, -3, -7, 9, -23, 22], 输出：[23, 22]\n",
    "\n"
   ]
  },
  {
   "cell_type": "markdown",
   "metadata": {},
   "source": [
    "### idea:\n",
    "\n",
    "使用栈结构来模拟过程\n",
    "\n",
    "遍历数组，如果当前元素为负数且栈顶元素为正数，则发生碰撞\n",
    "\n",
    "碰撞后大的质量不变，因此只有小的消失\n",
    "\n",
    "在操作中，每个元素只会入栈一次，出栈一次，因此平均时间复杂度为O(n)\n",
    "\n",
    "最坏的情况下，内部的while循环每次都需要遍历整个栈，因此最坏时间复杂度为O(n^2)"
   ]
  },
  {
   "cell_type": "code",
   "execution_count": 34,
   "metadata": {},
   "outputs": [
    {
     "data": {
      "text/plain": [
       "[-3, -6, 2, 8, 9, 1]"
      ]
     },
     "execution_count": 34,
     "metadata": {},
     "output_type": "execute_result"
    }
   ],
   "source": [
    "def solution(arr):\n",
    "    stack = []\n",
    "    for num in arr:\n",
    "        if not stack:\n",
    "            stack.append(num)\n",
    "        elif num * stack[-1] > 0 or ( num > 0 and stack[-1] < 0 ):\n",
    "            stack.append(num)\n",
    "        elif num < 0:\n",
    "            while(stack[-1] > 0):\n",
    "                if abs(num) > stack[-1]:\n",
    "                    stack.pop()\n",
    "                else:\n",
    "                    break\n",
    "    return stack\n",
    "        \n",
    "            \n",
    "solution([-3,-6,2,8,5,-8,9,-2,1])"
   ]
  },
  {
   "cell_type": "code",
   "execution_count": 35,
   "metadata": {},
   "outputs": [
    {
     "data": {
      "text/plain": [
       "[23, 22]"
      ]
     },
     "execution_count": 35,
     "metadata": {},
     "output_type": "execute_result"
    }
   ],
   "source": [
    "solution([23,-8,9,-3,-7,9,-23,22])"
   ]
  },
  {
   "cell_type": "markdown",
   "metadata": {},
   "source": [
    "---"
   ]
  },
  {
   "cell_type": "markdown",
   "metadata": {},
   "source": [
    "## 问题 5 \n",
    "\n",
    "> 给定一个无序数组nums=[9,-3,-10,0,9,7,33]，请建立一个二叉搜索树存储数组中的所有元素，之后删除二叉树中的元素“0”，再使用中序遍历输出二叉搜索树中的所有元素。\n",
    "\n",
    "使用python编程完成上述任务，并计算时间复杂度\n"
   ]
  },
  {
   "cell_type": "code",
   "execution_count": null,
   "metadata": {},
   "outputs": [
    {
     "name": "stdout",
     "output_type": "stream",
     "text": [
      "[-10, -3, 7, 9, 9, 9, 33]\n"
     ]
    }
   ],
   "source": [
    "# add your idea here\n",
    "# 递归建树、遍历和删除节点\n",
    "# your algorithm time complexity is: \n",
    "# build: avg O(nlog),worst O(n^2)\n",
    "# delete: O(h), h:=height of the tree\n",
    "# traversal: O(n)\n",
    "\n",
    "class Node:\n",
    "    def __init__(self, value, left=None, right=None):\n",
    "        self.value = value\n",
    "        self.left = left\n",
    "        self.right = right\n",
    "\n",
    "def build_tree(arr):\n",
    "    if not arr:\n",
    "        return None\n",
    "    root = Node(arr[0])\n",
    "    i = 1\n",
    "    for num in arr:\n",
    "        insert(root, num)\n",
    "    return root\n",
    "\n",
    "# 插入节点\n",
    "def insert(node, val):\n",
    "    if node is None:\n",
    "        return Node(val)\n",
    "    else:\n",
    "        if val < node.value:\n",
    "            node.left = insert(node.left, val)\n",
    "        else:\n",
    "            node.right = insert(node.right, val)\n",
    "    return node\n",
    "\n",
    "# 删除节点\n",
    "def delete_node(root, val):\n",
    "    if not root:\n",
    "        return None\n",
    "    if val < root.value:\n",
    "        root.left = delete_node(root.left, val)\n",
    "    elif val > root.value:\n",
    "        root.right = delete_node(root.right, val)\n",
    "    else:\n",
    "        if not root.left:\n",
    "            return root.right\n",
    "        if not root.right:\n",
    "            return root.left\n",
    "        # 找到右子树的最小节点替换\n",
    "        temp = root.right\n",
    "        while temp.left:\n",
    "            temp = temp.left\n",
    "        root.value = temp.value\n",
    "        root.right = delete_node(root.right, temp.value)\n",
    "    return root\n",
    "\n",
    "# 中序遍历\n",
    "def inorder_traversal(root):\n",
    "    res = []\n",
    "    if root:\n",
    "        res.extend(inorder_traversal(root.left))\n",
    "        res.append(root.value)\n",
    "        res.extend(inorder_traversal(root.right))\n",
    "    return res\n",
    "        \n",
    "        \n",
    "nums = [9, -3, -10, 0, 9, 7, 33]\n",
    "root = build_tree(nums)\n",
    "\n",
    "root = delete_node(root, 0)\n",
    "result = inorder_traversal(root)\n",
    "print(result)"
   ]
  },
  {
   "cell_type": "markdown",
   "metadata": {},
   "source": [
    "---"
   ]
  },
  {
   "cell_type": "markdown",
   "metadata": {},
   "source": [
    "## 问题 6  \n",
    "\n",
    "> 给定一个包含大写字母和小写字母的字符串 s ，返回 字符串包含的 **最长的回文子串的长度** 。请注意 区分大小写 。比如 \"Aa\" 不能当做一个回文字符串。\n",
    ">\n",
    "\n",
    "请设计一个算法解决上述问题，只需要输出最长回文子串的长度，分析算法设计思路，计算时间复杂度，并基于python编程实现\n",
    "\n",
    "e.g. 输入： s=\"adccaccd\"，  输出：7。 最长回文子串为：\"dccaccd\", 长度为7\n"
   ]
  },
  {
   "cell_type": "markdown",
   "metadata": {},
   "source": [
    "idea：\n",
    "\n",
    "> 采用dp方法\n",
    ">\n",
    "> dp[i][j] 表示字符串从 i 到 j 是否为回文串\n",
    ">\n",
    "> 初始化：dp[i][i] = true （一个字符肯定是回文串）\n",
    ">\n",
    "> 状态转移方程：\n",
    ">\n",
    "> - len == 2: dp[i][j] = str[i]==str[j]\n",
    "> - len >= 3: dp[i][j] = str[i]==str[j] && dp[i+1][j-1]\n",
    ">\n",
    "> 时间复杂度 O(n^2)"
   ]
  },
  {
   "cell_type": "code",
   "execution_count": 48,
   "metadata": {},
   "outputs": [
    {
     "name": "stdout",
     "output_type": "stream",
     "text": [
      "1\n",
      "2\n",
      "7\n",
      "7\n"
     ]
    }
   ],
   "source": [
    "# add your idea here\n",
    "# your algorithm time complexity is: O(n^2)\n",
    "\n",
    "def solution(cs):\n",
    "    n = len(cs)\n",
    "    dp = [[False]*n for _ in range(n)]\n",
    "    max_len = 1\n",
    "    \n",
    "    for i in range(n):\n",
    "        dp[i][i] = True\n",
    "    for i in range(n-1):\n",
    "        if cs[i] == cs[i+1]:\n",
    "            dp[i][i+1] = True\n",
    "            max_len = 2\n",
    "            \n",
    "    for l in range(3, n+1):\n",
    "        for i in range(n-l+1):\n",
    "            j = i + l - 1\n",
    "            if cs[i] == cs[j] and dp[i+1][j-1]:\n",
    "                dp[i][j] = True\n",
    "                max_len = l\n",
    "    return max_len\n",
    "    \n",
    "print(solution('abc'))\n",
    "print(solution('aab'))\n",
    "print(solution('adccaccd'))\n",
    "print(solution('dccaccd'))\n",
    "            \n"
   ]
  },
  {
   "cell_type": "markdown",
   "metadata": {},
   "source": [
    "## 问题 7 \n",
    "\n",
    "> 沿一条长河流分散着n座房子。你可以把这条河想象成一条轴，房子是由它们在这条轴上的坐标按顺序排列的。你的公司想在河边的特定地点设置手机基站，这样每户人家都在距离基站4公里的范围内。输入可以看作为一个升序数组，数组元素的取值为大于等于0的正整数，你需要输出最小基站的数目，基站的位置。\n",
    "\n",
    "1. 给出一个时间复杂度为$O(n$) 的算法，使所使用的基站数量最小化，分析算法设计思路，使用python编程实现\n",
    "2. 证明1.中算法产生了最优解决方案。\n",
    "\n",
    "e.g. \n",
    "\n",
    "输入： [1, 5, 12, 33, 34,35]  输出：基站数目为3， 基站位置为[1，12，33]\n",
    "\n"
   ]
  },
  {
   "cell_type": "markdown",
   "metadata": {},
   "source": [
    "idea：\n",
    "\n",
    "1. 可以用贪心方法求解\n",
    "\n",
    "- 遍历数组\n",
    "- 如果当前值已经不能被基站覆盖，则在当前位置放置一个基站\n",
    "- 更新基站覆盖范围\n",
    "\n",
    "2. 证明：\n",
    "\n",
    "数学归纳法\n",
    "\n",
    "- 当 n==1 时，显然最优解为 1\n",
    "- 假设对于 n = k 时由贪心算法得到了最优解 s\n",
    "- 当 n = k+1 时，考虑在最后一个位置放置基站和不放置基站两种情况\n",
    "  - 如果最后一个位置不被覆盖，则在最后一个位置放置基站，此时基站数为 s+1\n",
    "  - 否则，最后一个位置可以被前面的基站覆盖，此时基站数为 s\n",
    "  - 对于第一种情况，任何最优解都需要在最后一个位置放置基站，基站数至少为 s+1\n",
    "  - 对于第二种情况，已经是最优解，基站数至少为 s\n",
    "- 综上，贪心算法可以得到最优解"
   ]
  },
  {
   "cell_type": "code",
   "execution_count": 69,
   "metadata": {},
   "outputs": [
    {
     "name": "stdout",
     "output_type": "stream",
     "text": [
      "[1, 5, 12]\n",
      "[3, 7]\n"
     ]
    }
   ],
   "source": [
    "# add your idea here\n",
    "# your algorithm time complexity is: O(n)\n",
    "\n",
    "def solution(arr):\n",
    "    pos = []\n",
    "    pre = arr[0] + 4\n",
    "    for i in range(len(arr)):\n",
    "        if arr[i] >= pre:\n",
    "            pos.append(arr[i-1])\n",
    "            pre = arr[i]+4\n",
    "    return pos\n",
    "    \n",
    "\n",
    "print(solution([1,5,12,33,34,35]))\n",
    "print(solution([1,3,6,7,11]))\n",
    "            "
   ]
  },
  {
   "cell_type": "markdown",
   "metadata": {},
   "source": [
    "---"
   ]
  },
  {
   "cell_type": "markdown",
   "metadata": {},
   "source": [
    "## 问题 8  \n",
    "\n",
    "> 给定由n个正整数组成的一个集合$S = \\{a_1, a_2，···，a_n\\}$和一个正整数W，设计一个算法确定是否存在S的一个子集 $K \\subseteq S$, 使K中所有数之和为 $W$, 如果存在返回“True”，否则返回“False”\n",
    "\n",
    "请设计一个时间复杂度为$O(nW)$动态规划算法，解决上述问题，分析算法的设计思路，并且基于python编程实现（不需要输出子集）。\n",
    "\n",
    "e.g. \n",
    "\n",
    "输入：S = {1,4,7,3,5}， W = 11，输出：True。   因为K可以是{4,7}。\n",
    "\n"
   ]
  },
  {
   "cell_type": "markdown",
   "metadata": {},
   "source": [
    "idea：\n",
    "\n",
    "- 数组 dp[i] ，表示是否存在子集之和等于 i\n",
    "- 遍历数组，对于每一个元素 j：\n",
    "  - 初始化 dp[0] = 1\n",
    "  - 状态转移 dp[i + j] = dp[j] && dp[i]\n",
    "- 如果 dp[W] == 1 则说明存在子集之和等于 W"
   ]
  },
  {
   "cell_type": "code",
   "execution_count": 107,
   "metadata": {},
   "outputs": [
    {
     "name": "stdout",
     "output_type": "stream",
     "text": [
      "True\n",
      "False\n"
     ]
    }
   ],
   "source": [
    "# add your idea here\n",
    "# your algorithm time complexity is: O(nW)\n",
    "\n",
    "def solution(arr,w):\n",
    "    dp = [False] * (w+1)\n",
    "    dp[0] = True\n",
    "    for num in arr:\n",
    "        if num > w:\n",
    "            continue\n",
    "        cp = dp.copy()\n",
    "        for i in range(w-num+1):\n",
    "            if cp[i]:\n",
    "                dp[num+i] = True\n",
    "        # print(num,dp,cp)\n",
    "    return dp[w]\n",
    "\n",
    "print(solution([1,4,7,3,5],11))\n",
    "print(solution([1,4,7,3,5],2))\n",
    "\n"
   ]
  },
  {
   "cell_type": "markdown",
   "metadata": {},
   "source": [
    "---"
   ]
  },
  {
   "cell_type": "markdown",
   "metadata": {},
   "source": [
    "\n",
    "\n",
    "## 问题 9 \n",
    "\n",
    "> 给定一个n个物品的集合。物体的重量为$w_1, w_2，…、w_n$，物品的价值分别是$v_1、v_2、…v_n$。给你**两个**重量为 $c$ 的背包。如果你带了一个东西，它可以放在一个背包里，也可以放在另一个背包里，但不能同时放在两个背包里。所有权重和价值都是正整数。\n",
    "\n",
    "1. 设计一个时间复杂度为 $O(nc^2)$ 的动态规划算法，确定可以放入两个背包的物体的最大价值。分析算法设计思路，并基于python编程实现\n",
    "2. \\* 修改1中的算法，输出每个背包的内容（物品对应下标）。\n",
    "\n",
    "e.g.: \n",
    "\n",
    "输入 V=[1,3,2,5,8,7], W=[1,3,2,5,8,7], c=7, 输出：最大价值=14，背包装的物品为：[6] [4，3] （同一个背包中物品装入顺序对结果无影响）  \n"
   ]
  },
  {
   "cell_type": "markdown",
   "metadata": {},
   "source": [
    "idea：\n",
    "\n",
    "1.\n",
    "\n",
    "\n",
    "> 使用三维dp数组记录状态\n",
    ">\n",
    "> dp[i][j][k]:= 前i个物品，背包1容量j，背包2容量k时的最大价值\n",
    ">\n",
    "> 初始化：0\n",
    ">\n",
    "> 状态转移：对于每个物品\n",
    ">\n",
    "> - 如果不装：dp[i][j][k] = dp[i-1][j][k]\n",
    "> - 如果装入第一个口袋：dp[i][j][k] = max(~,dp[i-1][j-w[i]][k]+v[i])\n",
    "> - 如果装入第二个口袋：dp[i][j][k] = max(~,dp[i-1][j][k-w[i]]+v[i])\n",
    ">\n",
    "> 最终要求的结果：dp[n][c][c]"
   ]
  },
  {
   "cell_type": "code",
   "execution_count": 115,
   "metadata": {},
   "outputs": [
    {
     "data": {
      "text/plain": [
       "14"
      ]
     },
     "execution_count": 115,
     "metadata": {},
     "output_type": "execute_result"
    }
   ],
   "source": [
    "# add your idea here\n",
    "# your algorithm time complexity is: O(nc^2)\n",
    "\n",
    "def solution(V, W, c):\n",
    "    n = len(V)\n",
    "    # dp[i][j][k]:= 前i个物品，背包1容量j，背包2容量k时的最大价值\n",
    "    dp = [[[0] * (c + 1) for _ in range(c + 1)] for __ in range(n + 1)]\n",
    "    \n",
    "    for i in range(1, n+1):\n",
    "        for j in range(c+1):\n",
    "            for k in range(c+1):\n",
    "                # 不选当前物品\n",
    "                dp[i][j][k] = dp[i-1][j][k]\n",
    "                \n",
    "                # 背包1\n",
    "                if j >= W[i-1]:\n",
    "                    if dp[i-1][j-W[i-1]][k] + V[i-1] > dp[i][j][k]:\n",
    "                        dp[i][j][k] = dp[i-1][j-W[i-1]][k] + V[i-1]\n",
    "                \n",
    "                # 背包2\n",
    "                if k >= W[i-1]:\n",
    "                    if dp[i-1][j][k-W[i-1]] + V[i-1] > dp[i][j][k]:\n",
    "                        dp[i][j][k] = dp[i-1][j][k-W[i-1]] + V[i-1]\n",
    "    \n",
    "    max_val = dp[n][c][c]\n",
    "    return max_val\n",
    "\n",
    "V = [1, 3, 2, 5, 8, 7]\n",
    "W = [1, 3, 2, 5, 8, 7]\n",
    "c = 7\n",
    "max_val = solution(V, W, c)\n",
    "max_val"
   ]
  },
  {
   "cell_type": "markdown",
   "metadata": {},
   "source": [
    "2.\n",
    "\n",
    "> 另用一个三维数组存储选择\n",
    ">\n",
    "> prev[i][j][k] := 第 i 个物品在背包容量为 j 和 k 时的选择，0不选 1背包一 2背包二\n",
    ">\n",
    "> 最后递推地查询哪些状态是最优解路径上的"
   ]
  },
  {
   "cell_type": "code",
   "execution_count": 116,
   "metadata": {},
   "outputs": [
    {
     "data": {
      "text/plain": [
       "(14, [6], [3, 4])"
      ]
     },
     "execution_count": 116,
     "metadata": {},
     "output_type": "execute_result"
    }
   ],
   "source": [
    "def solution(V, W, c):\n",
    "    n = len(V)\n",
    "    # dp[i][j][k]:= 前i个物品，背包1容量j，背包2容量k时的最大价值\n",
    "    dp = [[[-float('inf')] * (c + 1) for _ in range(c + 1)] for __ in range(n + 1)]\n",
    "    # 0-不选，1-背包1，2-背包2\n",
    "    prev = [[[None for _ in range(c + 1)] for __ in range(c + 1)] for ___ in range(n + 1)]\n",
    "    \n",
    "    dp[0][0][0] = 0\n",
    "    \n",
    "    for i in range(1, n+1):\n",
    "        for j in range(c+1):\n",
    "            for k in range(c+1):\n",
    "                # 不选\n",
    "                dp[i][j][k] = dp[i-1][j][k]\n",
    "                prev[i][j][k] = (i-1, j, k, 0)  \n",
    "            \n",
    "                # 背包1\n",
    "                if j >= W[i-1] and dp[i-1][j - W[i-1]][k] + V[i-1] > dp[i][j][k]:\n",
    "                    dp[i][j][k] = dp[i-1][j - W[i-1]][k] + V[i-1]\n",
    "                    prev[i][j][k] = (i-1, j - W[i-1], k, 1) \n",
    "                \n",
    "                # 背包2\n",
    "                if k >= W[i-1] and dp[i-1][j][k - W[i-1]] + V[i-1] > dp[i][j][k]:\n",
    "                    dp[i][j][k] = dp[i-1][j][k - W[i-1]] + V[i-1]\n",
    "                    prev[i][j][k] = (i-1, j, k - W[i-1], 2)  \n",
    "    \n",
    "    max_val = -float('inf')\n",
    "    final_j, final_k = 0, 0\n",
    "    for j in range(c+1):\n",
    "        for k in range(c+1):\n",
    "            if dp[n][j][k] > max_val:\n",
    "                max_val = dp[n][j][k]\n",
    "                final_j, final_k = j, k\n",
    "    \n",
    "    \n",
    "    bag1 = [] \n",
    "    bag2 = []\n",
    "    current_i, current_j, current_k = n, final_j, final_k\n",
    "    \n",
    "    while current_i > 0:\n",
    "        state = prev[current_i][current_j][current_k]\n",
    "        prev_i, prev_j, prev_k, choice = state\n",
    "        \n",
    "        if choice == 1:\n",
    "            # 1\n",
    "            bag1.append(current_i) \n",
    "            current_j = prev_j\n",
    "            current_k = prev_k\n",
    "        elif choice == 2:\n",
    "            # 2\n",
    "            bag2.append(current_i)\n",
    "            current_j = prev_j\n",
    "            current_k = prev_k\n",
    "        else:\n",
    "            # 不选\n",
    "            current_j = prev_j\n",
    "            current_k = prev_k\n",
    "        \n",
    "        current_i = prev_i\n",
    "    \n",
    "    bag1.reverse()\n",
    "    bag2.reverse()\n",
    "    \n",
    "    return max_val, bag1, bag2\n",
    "\n",
    "V = [1, 3, 2, 5, 8, 7]\n",
    "W = [1, 3, 2, 5, 8, 7]\n",
    "c = 7\n",
    "max_val, bag1, bag2 = solution(V, W, c)\n",
    "max_val, bag1, bag2 "
   ]
  },
  {
   "cell_type": "markdown",
   "metadata": {},
   "source": [
    "---"
   ]
  },
  {
   "cell_type": "markdown",
   "metadata": {},
   "source": [
    "## 问题 10 \n",
    "\n",
    "> 给定两个字符串 $x[1..n]$ 和 $y[1..m]$，我们想通过以下操作将 $x$ 变换为 $y$ :\n",
    ">\n",
    "> **插入**：在 $x$ 中插入一个字符(在任何位置)；**删除**：从 $x$ 中删除一个字符(在任何位置)； **替换**：用另一个字符替换 $x$ 中的一个字符。\n",
    ">\n",
    "> 例如: $x = abcd$, $y = bcfe$，\n",
    ">\n",
    "> - 将 $x$ 转换为 $y$ 的一种可能方法是：1. 删除 $x$ 开头的 $a$, $x$变成 $bcd$； 2. 将 $x$ 中的字符 $d$ 替换为字符 $f$。$x$ 变成 $bcf$； 3. 在 $x$ 的末尾插入字符 $e$。$x$ 变成 $bcfe$。\n",
    ">\n",
    "> - 另一种可能的方法：1. 删除 $x$ 开头的 $a$,  $x$ 变成 $bcd$； 2. 在 $x$ 中字符 $d$ 之前插入字符 $f$。$x$ 变成 $bcfd$。3. 将 $x$ 中的字符 $d$ 替换为字符 $e$。$x$ 变成 $bcfe$。\n",
    "\n",
    "设计一个时间复杂度为 $O(mn)$ 的算法，返回将 $x$ 转换为 $y$ 所需的最少操作次数。分析算法设计思路，并基于python编程实现。\n"
   ]
  },
  {
   "cell_type": "markdown",
   "metadata": {},
   "source": [
    "idea：\n",
    "\n",
    "> dp[i][j] := 将 x 的前 i 个字符转换成 y 的前 j 个字符所需要的最少操作次数\n",
    "> \n",
    "> 最少的操作次数一定是最大化利用 $x$ 和 $y$ 字符串中相同的部分，然后尽可能地替换、插入或删除剩下的部分。\n",
    ">\n",
    "> 初始化：dp[i][0] = i, dp[0][j] = j 即全部删除或全部插入\n",
    ">\n",
    "> 状态转移方程：\n",
    ">\n",
    "> - 如果 x[i] == y[j] : dp[i][j] = dp[i-1][j-1];\n",
    "> - 如果 x[i] != y[j] : 取三种操作中所需操作数最小的（删除、替换、插入）"
   ]
  },
  {
   "cell_type": "code",
   "execution_count": 118,
   "metadata": {},
   "outputs": [
    {
     "name": "stdout",
     "output_type": "stream",
     "text": [
      "3\n"
     ]
    }
   ],
   "source": [
    "# add your idea here\n",
    "# your algorithm time complexity is: O(mn)\n",
    "\n",
    "def solution(x, y):\n",
    "    n = len(x)\n",
    "    m = len(y)\n",
    "    dp = [[0] * (m + 1) for _ in range(n + 1)]\n",
    "    \n",
    "    for i in range(n + 1):\n",
    "        dp[i][0] = i  \n",
    "    for j in range(m + 1):\n",
    "        dp[0][j] = j \n",
    "    \n",
    "    for i in range(1, n + 1):\n",
    "        for j in range(1, m + 1):\n",
    "            if x[i-1] == y[j-1]:\n",
    "                dp[i][j] = dp[i-1][j-1]  \n",
    "            else:\n",
    "                dp[i][j] = 1 + min(\n",
    "                    dp[i-1][j],    \n",
    "                    dp[i][j-1],    \n",
    "                    dp[i-1][j-1]  \n",
    "                )\n",
    "    return dp[n][m]\n",
    "\n",
    "x = \"abcd\"\n",
    "y = \"bcfe\"\n",
    "print(solution(x, y))  "
   ]
  }
 ],
 "metadata": {
  "kernelspec": {
   "display_name": "daily38",
   "language": "python",
   "name": "python3"
  },
  "language_info": {
   "codemirror_mode": {
    "name": "ipython",
    "version": 3
   },
   "file_extension": ".py",
   "mimetype": "text/x-python",
   "name": "python",
   "nbconvert_exporter": "python",
   "pygments_lexer": "ipython3",
   "version": "3.8.20"
  }
 },
 "nbformat": 4,
 "nbformat_minor": 2
}
