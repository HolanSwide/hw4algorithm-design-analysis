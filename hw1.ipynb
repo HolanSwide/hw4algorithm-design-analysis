{
 "cells": [
  {
   "cell_type": "markdown",
   "metadata": {},
   "source": [
    "## algorithm design and anlysis-2025 spring  homework 1 \n",
    "**Deadline**：2025.5.14\n",
    "\n",
    "**name**:\n",
    "\n",
    "\n",
    "note：\n",
    "---\n",
    "1. 带有\\*的题目，申请免上课的同学，必须完成，其他同学选作；\n",
    "2. 请独立完成，如求助了他人或者大模型，请著明，并且不可省略算法分析部分；\n",
    "4. 如若作答有雷同，全部取消成绩；\n",
    "3. 需要书面作答的题目，可以通过引用图片的形式添加，但是注意上传项目时包含所引用的图片的源文件；\n",
    "4. $log_n$ 默认表示$log_2{n}$;"
   ]
  },
  {
   "cell_type": "markdown",
   "metadata": {},
   "source": [
    "## 问题 1\n",
    "\n",
    "对于下面的每一对表达式(A, B), A是否能表示为B的 $\\Theta, \\Omega ,O$形式. 请注意, 这些关系中的零个、一个或多个可能成立。列出所有正确的。经常发生一些学生会,把指示写错, 所以请把关系写完整, 例如: $A = O(B),  A =\\Theta(B)$, 或$A = \\Omega(B)$。\n",
    "\n",
    "1. $A=n^2-100n, B=n^2$\n",
    "2. $A=logn, B=log_{1.2}n$\n",
    "3. $A=3^{2n}, B=2^{4n}$\n",
    "4. $A=2^{logn}, B=n$\n",
    "5. $A=\\log{\\log}{n},B=10^{10^{100}}$"
   ]
  },
  {
   "cell_type": "markdown",
   "metadata": {},
   "source": [
    "## 解答1"
   ]
  },
  {
   "cell_type": "markdown",
   "metadata": {},
   "source": [
    "1. $A = \\Theta(B), A = O(B), A = \\Omega(B)$\n",
    "2. $A = \\Theta(B), A = O(B), A = \\Omega(B)$\n",
    "3. 都不成立  可知：$A=3^{2n}=9^n , B=2^{4n}=16^n, B$的增长速度远大于$A$\n",
    "4. $A = \\Theta(B), A = O(B), A = \\Omega(B)$\n",
    "5. $A = O(B)$ $B$ 是一个常数，$A$ 是一个缓慢向无穷大的函数，所以 $A = O(B)$ 总是成立。\n",
    "\n",
    "---"
   ]
  },
  {
   "cell_type": "markdown",
   "metadata": {},
   "source": [
    "## 问题 2：\n",
    "\n",
    "假设有函数 $f$ 和 $g$ 使得 $f(n)$ = $O(g(n))$ 对于下面的每一个陈述, 请判断对错, 如果正确请给出证明, 否则请给出一个反例。\n",
    "\n",
    "1. $\\log{f(n)}$ = $O(\\log(1+g(n)))$\n",
    "2. $3^{f(n)}=O(3^{g(n)})$\n",
    "3. $(f(n))^2=O((g(n))^2)$ "
   ]
  },
  {
   "cell_type": "markdown",
   "metadata": {},
   "source": [
    "## 解答 2：\n",
    "\n",
    "### 1. $\\log{f(n)}$ = $O(\\log(1+g(n)))$\n",
    "\n",
    "**错误**\n",
    "\n",
    "**反例：**\n",
    "\n",
    "$f(n)=1, g(n)=\\frac{1}{n}$\n",
    "\n",
    "满足题设条件 $f(n)$ = $O(g(n))$ ，\n",
    "\n",
    "但 $\\log f(n) = \\log 1 = 0$，而 $\\log(1 + g(n)) = \\log\\left(1 + \\frac{1}{n}\\right) \\approx \\frac{1}{n}$\n",
    "\n",
    "因此陈述错误。\n",
    "\n",
    "### 2. $3^{f(n)}=O(3^{g(n)})$\n",
    "\n",
    "**错误**\n",
    "\n",
    "**反例：**\n",
    "\n",
    "$f(n) = 2n ， g(n) = n$\n",
    "\n",
    "满足题设条件 $f(n)$ = $O(g(n))$ ，\n",
    "\n",
    "但 $3^{f(n)} = 3^{2n} = 9^n$，而 $3^{g(n)} = 3^n$。\n",
    "\n",
    "因此陈述错误。\n",
    "\n",
    "### 3. $(f(n))^2=O((g(n))^2)$ \n",
    "\n",
    "**正确**\n",
    "\n",
    "**证明：**\n",
    "\n",
    "由 $f(n) = O(g(n))$，存在 $c > 0$ 和 $n_0$ 使得对所有 $n \\geq n_0$，有 $f(n) \\leq c g(n)$。\n",
    "两边平方得：\n",
    "\n",
    "$$\n",
    "(f(n))^2 <= C^2(g(n))^2\n",
    "$$\n",
    " \n",
    "因此 $(f(n))^2 = O((g(n))^2)$，常数 $c^2$ 和相同的 $n_0$ 取等号。\n",
    "\n",
    "---\n"
   ]
  },
  {
   "cell_type": "markdown",
   "metadata": {},
   "source": [
    "## 问题 3\n",
    "\n",
    "根据下列递归公式, 计算下列 $T(n)$ 对应的的渐近上界。要求所求的边界尽可能的紧（tight）, 请写明步骤。\n",
    "\n",
    "1. $T(1)=1; T(n)=T(n/4)+1$ for $n>1$\n",
    "2. $T(1)=1;T(n)=3T(n/3)+n^2$ for $n>1$\n",
    "3. $T(1)=1;T(n)=T(2n/3)+1$ for $n>1$\n",
    "4. $T(1)=1;T(n)=5T(n/4)+n$ for $n>1$\n",
    "5. $T(n)=1 \\ for\\ n \\le 2 ; T(n)=T(\\sqrt{n})+1 \\ for \\ n>2$"
   ]
  },
  {
   "cell_type": "markdown",
   "metadata": {},
   "source": [
    "## 解答 3\n",
    "\n",
    "### 1. $T(1)=1; T(n)=T(n/4)+1$ for $n>1$\n",
    "\n",
    "根据主定理：$T(n) = T(n/b) + f(n)$，其中 $b=4$，$f(n)=1$\n",
    "\n",
    "根据：$n^{\\log_4 1} = n^0 = 1$\n",
    "\n",
    "$f(n) = \\Theta(1) = \\Theta(n^{\\log_4 1})$\n",
    "\n",
    "所以：$T(n) = \\Theta(\\log n)$\n",
    "\n",
    "### 2. $T(1)=1;T(n)=3T(n/3)+n^2$ for $n>1$\n",
    "\n",
    "根据主定理： $a=3$，$b=3$，$f(n)=n^2$\n",
    "\n",
    "根据：$n^{\\log_3 3} = n^1 = n <= n^2$\n",
    "\n",
    "所以：$T(n) = \\Theta(n^2)$\n",
    "\n",
    "### 3. $T(1)=1;T(n)=T(2n/3)+1$ for $n>1$\n",
    "\n",
    "根据主定理： $a=1$，$b=3/2$，$f(n)=1$\n",
    "\n",
    "根据：$n^{\\log_{3/2} 1} = n^0 = 1$\n",
    "\n",
    "$f(n) = \\Theta(1) = \\Theta(n^{\\log_{3/2} 1})$\n",
    "\n",
    "所以：$T(n) = \\Theta(n)$\n",
    "\n",
    "### 4. $T(1)=1;T(n)=5T(n/4)+n$ for $n>1$\n",
    "\n",
    "根据主定理： $a=5$，$b=4$，$f(n)=n$\n",
    "\n",
    "根据：$n^{\\log_4 5} >= n$\n",
    "\n",
    "所以：$T(n) = \\Theta(n)$\n",
    "\n",
    "\n",
    "### 5. $T(n)=1 \\ for\\ n \\le 2 ; T(n)=T(\\sqrt{n})+1 \\ for \\ n>2$\n",
    "\n",
    "![photo](./fig/hw1/1.jpg)\n"
   ]
  },
  {
   "cell_type": "markdown",
   "metadata": {},
   "source": [
    "---"
   ]
  },
  {
   "cell_type": "markdown",
   "metadata": {},
   "source": [
    "## 问题 4：\n",
    "\n",
    "给定一个包含n个元素的数组 `profits` , 它的第 `i` 个元素 `profits[i]` 表示一支股票第 `i` 天的**收益**（正数表示涨, 负数表示跌）。你只能选择 **某一天** 买入这只股票, 并选择在 **未来的某一个不同的日子** 卖出该股票。\n",
    "\n",
    "1. 设计一个算法来计算你所能获取的最大利润和对应买入和卖出的日期。请分析算法方案, 计算其时间复杂度, 并且使用python编程实现该算法。\n",
    "\n",
    "2. \\* 设计一个时间复杂度为 $O(n)$的算法实现该算法\n",
    "\n",
    "e.g. :\n",
    "---\n",
    "profits=[3,2,1,-7,5,2,-1,3,-1], 第5天买入, 第8天卖出, 收益最大：9\n",
    "\n"
   ]
  },
  {
   "cell_type": "markdown",
   "metadata": {},
   "source": [
    "**idea:**"
   ]
  },
  {
   "cell_type": "markdown",
   "metadata": {},
   "source": [
    "初步判断：是一个**求连续最大子段和问题**\n",
    "\n",
    "从一个数组中，求一段连续的数字，使其和最大\n",
    "\n",
    "容易发现，要求的子段肯定是以正数开头、正数结尾（如果是负数，肯定比正数的情况和要小）\n",
    "\n",
    "因此可以维护一个动态值，存储满足这一要求的子段和，其最大值就是连续最大子段和。\n",
    "\n",
    "简要说明如下：\n",
    "\n",
    "1. 初始化变量 sum=0, maxx=0;\n",
    "2. 遍历数组 profits:\n",
    "   1. 如果 sum+profits[i] > 0: sum += profits[i];\n",
    "   2. 否则：sum = 0;\n",
    "   3. 每次都以 sum 的值更新 maxx： maxx = maxx > sum ? maxx:sum ;\n",
    "3. 遍历结束，得到的 maxx 就是要求的连续最大子段和\n",
    "\n",
    "该算法只需要遍历一次数组，时间复杂度为 O(n)\n",
    "\n",
    "这道题目还要求出子段的起始和结束位置（买入卖出日期）\n",
    "\n",
    "所以还需要维护两个变量来存储 maxx 代表的子段位置\n",
    "\n",
    "对算法修改如下：\n",
    "\n",
    "1. 初始化变量 sum=0, maxx=0;\n",
    "2. 初始化日期 begin=0, end=0;\n",
    "3. 遍历数组 profits:\n",
    "   1. 如果 sum = 0 and profits[i]>0: begin=i;\n",
    "   2. 如果 sum+profits[i] > 0: sum += profits[i];\n",
    "   3. 否则：sum = 0; \n",
    "   4. 每次都以 sum 的值更新 maxx： \n",
    "      1. 如果 sum > maxx: end = i; maxx = sum;\n",
    "4. 遍历结束，得到的 maxx 就是要求的连续最大子段和"
   ]
  },
  {
   "cell_type": "code",
   "execution_count": 2,
   "metadata": {},
   "outputs": [
    {
     "name": "stdout",
     "output_type": "stream",
     "text": [
      "max_profit: 9  begin: 5  end: 8\n"
     ]
    }
   ],
   "source": [
    "# add your code\n",
    "\n",
    "n = 9\n",
    "profits = [3,2,1,-7,5,2,-1,3,-1]\n",
    "\n",
    "sum = 0\n",
    "maxx = 0\n",
    "begin = 0\n",
    "end = 0\n",
    "\n",
    "for i in range(n):\n",
    "    if sum==0 and profits[i] > 0:\n",
    "        begin = i\n",
    "    sum += profits[i]\n",
    "    if sum < 0:\n",
    "        sum = 0\n",
    "    if maxx < sum:\n",
    "        maxx = sum\n",
    "        end = i\n",
    "print(\"max_profit:\",maxx,\" begin:\",begin+1,\" end:\",end+1)"
   ]
  },
  {
   "cell_type": "markdown",
   "metadata": {},
   "source": [
    "---"
   ]
  },
  {
   "cell_type": "markdown",
   "metadata": {},
   "source": [
    "## 问题 5：\n",
    "\n",
    "观察下方的分治算法（divide-and-conquer algorithm）的伪代码, 回答下面问题\n",
    "\n",
    "```latex\n",
    "DoSomething(A,p,r)\n",
    "-----\n",
    "n := r-p+1\n",
    "if n=2 and A[p]>A[r] then\n",
    "    swap A[p] and A[r]\n",
    "else if n >= 3 then\n",
    "    m = ceil(2n/3)\n",
    "    DoSomething(A,p,p+m-1)\n",
    "    DoSomething(A,r-m+1,r)\n",
    "    DoSomething(A,p,p+m-1)  \n",
    "    \n",
    "---\n",
    "first call: DoSomething(A,1,n)\n",
    "```\n",
    "\n",
    "note：$ceil(2n/3)=\\left\\lceil {2n/3} \\right\\rceil$；$:=$ 表示赋值, 等价于 $\\to$；A是一个包含n的整数元素的数组, \n",
    "\n",
    "1. 写出该算法时间复杂度的递归公式, 并求解其对应的渐进表示\n",
    "2. 描述一下该算法的功能, 并判断是否是最高效的解决方案\n",
    "3. 使用python编程实现上述算法或其对应的更高效版本的算法\n"
   ]
  },
  {
   "cell_type": "markdown",
   "metadata": {},
   "source": [
    "idea："
   ]
  },
  {
   "cell_type": "markdown",
   "metadata": {},
   "source": [
    "### 1. 递归公式\n",
    "$$\n",
    "T(n) = 1 for n = 1;\n",
    "$$\n",
    "\n",
    "$$\n",
    "T(n) = 3T\\left(\\left\\lceil \\frac{2n}{3} \\right\\rceil\\right) + O(1) for n \\geq 3.\n",
    "$$\n",
    "\n",
    "根据主定理：\n",
    "\n",
    "递归形式：T(n) = 3T(2n/3) + O(1)\n",
    "\n",
    "$a = 3, b = \\frac{3}{2}, f(n) = O(1)$\n",
    "\n",
    "$n^{log_b^a} = n^{log_\\frac{3}{2}^3} $\n",
    "\n",
    "因此，$T(n) = \\Theta(n^{\\log_{3/2} 3}) $。\n"
   ]
  },
  {
   "cell_type": "markdown",
   "metadata": {},
   "source": [
    "### 2. 算法功能\n",
    "\n",
    "递归排序\n",
    "\n",
    "- 当 n==2 时：比较前后两个值大小，并按照条件交换\n",
    "- 当 n>=3 时：递归处理前 2n/3 和后 2n/3 的部分\n",
    "\n",
    "算法的时间复杂度在 $\\Theta(n^{\\log_{3/2} 3})$\n",
    "\n",
    "有更好的排序算法，如快速排序（$O(n\\log n)$）"
   ]
  },
  {
   "cell_type": "markdown",
   "metadata": {},
   "source": [
    "### 3. 编程实现"
   ]
  },
  {
   "cell_type": "markdown",
   "metadata": {},
   "source": [
    "#### 该算法："
   ]
  },
  {
   "cell_type": "code",
   "execution_count": 7,
   "metadata": {},
   "outputs": [
    {
     "name": "stdout",
     "output_type": "stream",
     "text": [
      "[1, 2, 3, 4, 5, 6, 7, 8, 9]\n"
     ]
    }
   ],
   "source": [
    "def do_something(A, p, r):\n",
    "    n = r - p + 1\n",
    "    if n == 2 and A[p] > A[r]:\n",
    "        temp = A[p]\n",
    "        A[p] = A[r]\n",
    "        A[r] = temp\n",
    "    elif n >= 3:\n",
    "        m = (2 * n + 2) // 3  \n",
    "        do_something(A, p, p + m - 1)\n",
    "        do_something(A, r - m + 1, r)\n",
    "        do_something(A, p, p + m - 1)\n",
    "\n",
    "A = [2,1,3,7,4,9,5,8,6]\n",
    "do_something(A, 0, len(A) - 1)\n",
    "print(A) "
   ]
  },
  {
   "cell_type": "markdown",
   "metadata": {},
   "source": [
    "#### 快速排序："
   ]
  },
  {
   "cell_type": "code",
   "execution_count": 8,
   "metadata": {},
   "outputs": [
    {
     "name": "stdout",
     "output_type": "stream",
     "text": [
      "[1, 2, 3, 4, 5, 6, 7, 8, 9]\n"
     ]
    }
   ],
   "source": [
    "# add your code here\n",
    "# your algorithm time complexity is : O(nlogn)\n",
    "\n",
    "def quicksort(A, p, r):\n",
    "    if p < r:\n",
    "        q = divide(A, p, r)\n",
    "        quicksort(A, p, q - 1)\n",
    "        quicksort(A, q + 1, r)\n",
    "\n",
    "def divide(A, p, r):\n",
    "    pivot = A[r]\n",
    "    i = p - 1\n",
    "    for j in range(p, r):\n",
    "        if A[j] <= pivot:\n",
    "            i += 1\n",
    "            temp = A[i]\n",
    "            A[i] = A[j]\n",
    "            A[j] = temp\n",
    "    temp = A[i + 1]\n",
    "    A[i + 1] = A[r]\n",
    "    A[r] = temp\n",
    "    return i + 1\n",
    "\n",
    "A = [2,1,3,7,4,9,5,8,6]\n",
    "quicksort(A, 0, len(A) - 1)\n",
    "print(A)  "
   ]
  },
  {
   "cell_type": "markdown",
   "metadata": {},
   "source": [
    "---"
   ]
  },
  {
   "cell_type": "markdown",
   "metadata": {},
   "source": [
    "## 问题 6：\n",
    "\n",
    "给定一个大小为 `n` 的数组 `nums` , 返回其中的多数元素。多数元素是指在数组中出现次数 **大于** `⌊ n/2 ⌋` 的元素。\n",
    "\n",
    "你可以假设数组是非空的, 并且给定的数组总是存在多数元素。\n",
    "\n",
    "1. 设计一个算法找到给定数组的多数元素, 分析算法设计思路, 计算算法时间复杂度, 使用python编程实现\n",
    "2. \\* 设计时间复杂度为 O(n)、空间复杂度为 O(1) 的算法解决此问题, 分析算法设计思路, 使用python编程实现\n",
    "\n",
    "e.g.:\n",
    "---\n",
    "1. nums=[3,2,3], 返回3\n",
    "2. nums=[2,2,1,1,1,2,2], 返回2\n"
   ]
  },
  {
   "cell_type": "markdown",
   "metadata": {},
   "source": [
    "idea："
   ]
  },
  {
   "cell_type": "markdown",
   "metadata": {},
   "source": [
    "### 方法1:排序\n",
    "\n",
    "先对数组进行排序，再对有序数组进行统计：\n",
    "\n",
    "- 排序\n",
    "- 遍历有序数组\n",
    "- 读到相同元素，计数器加一\n",
    "- 维护出现最多的元素及其次数"
   ]
  },
  {
   "cell_type": "code",
   "execution_count": null,
   "metadata": {},
   "outputs": [
    {
     "name": "stdout",
     "output_type": "stream",
     "text": [
      "major: 2  count: 4\n"
     ]
    }
   ],
   "source": [
    "# add your code here\n",
    "# your algorithm time complexity is : O(nlogn)\n",
    "\n",
    "nums = [2,2,1,1,1,2,2]\n",
    "\n",
    "# 代码复用上一题的快速排序,O(nlogn)\n",
    "quicksort(nums, 0, len(nums) - 1)\n",
    "\n",
    "major = nums[0]\n",
    "major_count = 0\n",
    "temp = nums[0]\n",
    "count = 0\n",
    "\n",
    "for num in nums:\n",
    "    if temp == num:\n",
    "        count += 1\n",
    "    else:\n",
    "        count = 1\n",
    "        temp = num\n",
    "    if count > major_count:\n",
    "        major_count = count\n",
    "        major = num\n",
    "print(\"major:\",major,\" count:\",major_count)"
   ]
  },
  {
   "cell_type": "markdown",
   "metadata": {},
   "source": [
    "idea for 2\\*："
   ]
  },
  {
   "cell_type": "markdown",
   "metadata": {},
   "source": [
    "### 方法2: 贪心\n",
    "\n",
    "由于数组中肯定存在数量大于 n/2 的元素\n",
    "\n",
    "考虑以下情形：\n",
    "\n",
    "1. [2,1,2,1,2]\n",
    "2. [2,1,2,0,2,3,2]\n",
    "3. [2,1,1,2,2]\n",
    "\n",
    "可以发现：\n",
    "\n",
    "只要从第一个元素开始计算，局部最优解在考虑的范围达到一定大小时就是全局最优解\n",
    "\n",
    "需要考虑局部解不是全局解的情况：遇到非重复元素时，count不能清零\n",
    "\n",
    "而是等到当前存储的值不再满足局部最优解时，才重新寻找\n",
    "\n",
    "即：[2,2,1,1,...] 此类情况，读到第二个 1 时才清零，因为 2 已经不满足局部最优解\n",
    "\n",
    "算法设计如下：\n",
    "\n",
    "- 初始化变量 temp=nums[0],count=0 用于存储局部最优解\n",
    "- 遍历数组 nums：\n",
    "  - 如果 nums[i]==temp: count+=1;\n",
    "  - 如果 nums[i]!=temp: count-=1;\n",
    "  - 如果 count == 0: temp=nums[i]\n",
    "- 最后得到的 temp 就是全局最优解\n",
    "- 再次遍历数组 nums 得到其出现次数"
   ]
  },
  {
   "cell_type": "code",
   "execution_count": 10,
   "metadata": {},
   "outputs": [
    {
     "name": "stdout",
     "output_type": "stream",
     "text": [
      "major: 2  count: 4\n"
     ]
    }
   ],
   "source": [
    "# algorithm time complexity：O(n), space complexity:O(1)\n",
    "# add your code here\n",
    "\n",
    "nums = [2,2,1,1,1,2,2]\n",
    "n = len(nums)\n",
    "\n",
    "temp = nums[0]\n",
    "count = 0\n",
    "\n",
    "for num in nums:\n",
    "    if count == 0:\n",
    "        temp = num\n",
    "        count = 1\n",
    "    elif temp == num:\n",
    "        count += 1\n",
    "    else:\n",
    "        count -= 1\n",
    "\n",
    "count = 0\n",
    "\n",
    "for num in nums:\n",
    "    if num == temp:\n",
    "        count += 1        \n",
    "\n",
    "print(\"major:\",temp,\" count:\",count)"
   ]
  },
  {
   "cell_type": "markdown",
   "metadata": {},
   "source": [
    "---"
   ]
  },
  {
   "cell_type": "markdown",
   "metadata": {},
   "source": [
    "## 问题 7：\n",
    "\n",
    "给定一个包含不同整数元素的数组 $ A[1..n]$ ,并且满足条件：$A[1]>A[2]$ 并且 $A[n-1]<A[n]$; 规定：如果一个元素比它两边的邻居元素都小, 即：$A[x]<A[x-1], A[x]<A[x+1]$ , 称这个元素A[x]为“局部最小”。通过遍历一次数组, 我们可以很容易在 $O(n)$的时间复杂度下找到一个局部最小值, \n",
    "\n",
    "\n",
    "1. 分析该问题, 设计一个算法在$O(logn)$的时间复杂度下找到一个局部最小(返回数值), 要求：分析算法设计思路, 并且使用python编程实现\n",
    "2. \\* 设计算法找出所有局部最小值, 分析算法设计思路, 并使用python编程实现\n",
    "\n",
    "e.g.:\n",
    "---\n",
    "A=[9, 3, 7, 2, 1, 4, 5 ] 时,  局部最小元素为 3, 1\n"
   ]
  },
  {
   "cell_type": "markdown",
   "metadata": {},
   "source": [
    "idea：\n",
    "\n",
    "### 1. O(logn) 找 1 个局部最小值\n",
    "\n",
    "因为数组的两端保证了 A[1] > A[2], A[n-1] < A[n]，即保证了解的存在性\n",
    "\n",
    "可以用二分查找，判断中间元素是否满足条件，且往更小的方向搜索"
   ]
  },
  {
   "cell_type": "code",
   "execution_count": 15,
   "metadata": {},
   "outputs": [
    {
     "name": "stdout",
     "output_type": "stream",
     "text": [
      "1\n"
     ]
    }
   ],
   "source": [
    "# add your code here\n",
    "# your algorithm time complexity is : O(logn)\n",
    "\n",
    "def binary_search(nums):\n",
    "    left = 0\n",
    "    right = len(nums) - 1\n",
    "    while left < right:\n",
    "        mid = (left + right) // 2\n",
    "        if mid==0 or mid==len(nums)-1:\n",
    "            break\n",
    "        if nums[mid] < nums[mid-1] and nums[mid] < nums[mid+1]:\n",
    "            return nums[mid]\n",
    "        else:\n",
    "            if nums[mid] > nums[mid-1]:\n",
    "                right = mid - 1\n",
    "            else:\n",
    "                left = mid + 1\n",
    "    return nums[left]\n",
    "\n",
    "A = [9, 3, 7, 2, 1, 4, 5]\n",
    "print(binary_search(A)) "
   ]
  },
  {
   "cell_type": "markdown",
   "metadata": {},
   "source": [
    "idea:\n",
    "\n",
    "### 2. 找到所有最小值\n",
    "\n",
    "直接遍历数组，判断每个元素是否满足条件\n",
    "\n",
    "时间复杂度 O(n)"
   ]
  },
  {
   "cell_type": "code",
   "execution_count": 16,
   "metadata": {},
   "outputs": [
    {
     "name": "stdout",
     "output_type": "stream",
     "text": [
      "3\n",
      "1\n"
     ]
    }
   ],
   "source": [
    "# add your code here\n",
    "# your algorithm time complexity is :\n",
    "\n",
    "A = [9, 3, 7, 2, 1, 4, 5]\n",
    "\n",
    "for i in range(len(A)):\n",
    "    if i==0 or i==len(A)-1:\n",
    "        continue\n",
    "    if A[i] < A[i-1] and A[i] < A[i+1]:\n",
    "        print(A[i])"
   ]
  },
  {
   "cell_type": "markdown",
   "metadata": {},
   "source": [
    "---"
   ]
  },
  {
   "cell_type": "markdown",
   "metadata": {},
   "source": [
    "## 问题 8：\n",
    "\n",
    "给定包含n个不同数字的一组数, 寻找一种基于比较的算法在这组数中找到k个最小的数字, 并按顺序输出它们。\n",
    "\n",
    "1. 将n个数先进行排序, 然后按顺序输出最小的k个数。要求：选择合适的排序算法实现上述操作, 计算算法时间复杂度, 并使用python编程实现。\n",
    "2. 建立一个包含这n个数的堆（heap）, 并且调用 k 次Extract-min 按顺序输出最小的k个数。使用往空堆中不断插入元素的方法建立堆, 分析这种方法建堆的时间复杂度, 并使用python编程实现\n",
    "3. \\* 假设数组中包含的数据总数目超过了计算机的存储能力, 请设计一个算法, 找到这堆数据的前k小的数值, 计算时间复杂度, 并使用python实现该算法, 假设计算机一定能存储k个数据。\n",
    "\n",
    "e.g.：\n",
    "---\n",
    "数组arr=[5,4,3,2,6,1,88,33,22,107] 的前3个最小数据为：1, 2, 3\n"
   ]
  },
  {
   "cell_type": "markdown",
   "metadata": {},
   "source": [
    "idea：\n",
    "\n",
    "### 1. 排序再求前k小\n",
    "\n",
    "采用快速排序，时间复杂度 O(nlogn)"
   ]
  },
  {
   "cell_type": "code",
   "execution_count": 17,
   "metadata": {},
   "outputs": [
    {
     "name": "stdout",
     "output_type": "stream",
     "text": [
      "[1, 2, 3]\n"
     ]
    }
   ],
   "source": [
    "# add your code here\n",
    "# your algorithm time complexity is : O(nlogn)\n",
    "\n",
    "def quicksort(A, p, r):\n",
    "    if p < r:\n",
    "        q = divide(A, p, r)\n",
    "        quicksort(A, p, q - 1)\n",
    "        quicksort(A, q + 1, r)\n",
    "\n",
    "def divide(A, p, r):\n",
    "    pivot = A[r]\n",
    "    i = p - 1\n",
    "    for j in range(p, r):\n",
    "        if A[j] <= pivot:\n",
    "            i += 1\n",
    "            temp = A[i]\n",
    "            A[i] = A[j]\n",
    "            A[j] = temp\n",
    "    temp = A[i + 1]\n",
    "    A[i + 1] = A[r]\n",
    "    A[r] = temp\n",
    "    return i + 1\n",
    "\n",
    "arr = [5, 4, 3, 2, 6, 1, 88, 33, 22, 107]\n",
    "quicksort(arr, 0, len(arr) - 1)\n",
    "\n",
    "k = 3\n",
    "print(arr[:k])  "
   ]
  },
  {
   "cell_type": "markdown",
   "metadata": {},
   "source": [
    "### 2. 堆\n",
    "\n",
    "- 新建空堆\n",
    "- 往堆里面依次填数\n",
    "- 从堆顶取 k 次数"
   ]
  },
  {
   "cell_type": "code",
   "execution_count": 20,
   "metadata": {},
   "outputs": [
    {
     "name": "stdout",
     "output_type": "stream",
     "text": [
      "[1, 2, 3]\n"
     ]
    }
   ],
   "source": [
    "import heapq\n",
    "\n",
    "def find_k_small(nums, k):\n",
    "    heap = []\n",
    "    for num in nums:\n",
    "        heapq.heappush(heap, num)\n",
    "    result = []\n",
    "    for _ in range(k):\n",
    "        result.append(heapq.heappop(heap))\n",
    "    return result\n",
    "nums = [5, 4, 3, 2, 6, 1, 88, 33, 22, 107]\n",
    "k = 3\n",
    "result = find_k_small(nums, k)\n",
    "print(result)"
   ]
  },
  {
   "cell_type": "markdown",
   "metadata": {},
   "source": [
    "### 3. 大数据场景\n",
    "\n",
    "只保留前 k 小个元素\n",
    "\n",
    "即：维护一个大小为 k 的大根堆，\n",
    "\n",
    "入堆时取反，保证最小的元素在堆顶\n",
    "\n",
    "每次遍历到新元素，如果其比堆顶小，则替换掉堆顶"
   ]
  },
  {
   "cell_type": "code",
   "execution_count": 22,
   "metadata": {},
   "outputs": [
    {
     "name": "stdout",
     "output_type": "stream",
     "text": [
      "[1, 2, 3]\n"
     ]
    }
   ],
   "source": [
    "import heapq\n",
    "\n",
    "def find_k_small_ksize(nums, k):\n",
    "    max_heap = []\n",
    "    for num in nums:\n",
    "        if len(max_heap) < k:\n",
    "            heapq.heappush(max_heap, -num)  \n",
    "        elif num < -max_heap[0]:\n",
    "            heapq.heappop(max_heap)\n",
    "            heapq.heappush(max_heap, -num)\n",
    "    return sorted([-x for x in max_heap])\n",
    "\n",
    "\n",
    "nums = [5, 4, 3, 2, 6, 1, 88, 33, 22, 107]\n",
    "print(find_k_small_ksize(nums, 3))  "
   ]
  },
  {
   "cell_type": "markdown",
   "metadata": {},
   "source": [
    "---"
   ]
  },
  {
   "cell_type": "markdown",
   "metadata": {},
   "source": [
    "## 问题 9：\n",
    "\n",
    "**选择问题**:给定一个包含n个未排序值的数组A和一个$k≤n$的整数, 返回A中最小的第k项。\n",
    "\n",
    "在课堂上, 学了一个简单的O(n)随机算法来解决选择问题。事实上还有一种更复杂的最坏情况下时间复杂度为$O(n)$ 的选择算法。假设使用一个黑盒过程来实现这个O(n)选择算法: 给定一个数组A、 $p < r$ 和 k,  $BB(A, p, r, k)$ 可以在$O(r−p+ 1)$时间内找到并报告$A[p..r]$中第k小的项的下标。假设你可以在线性时间内处理Partition过程。\n",
    "\n",
    "1. 请分析如何修改 Quicksork 算法可以使其最差情况下的运行时间为 $O(nlogn)$, 使用伪代码实现, 并分析为何修改后的版本最差情况的运行时间为$O(nlogn)$\n",
    "\n",
    "note: 伪代码中, 你可以直接调用用` BB(A,p,r,k)`这个函数用于表示在最坏情况下时间复杂度为$O(n)$的选择算法；\n",
    "\n",
    "\n",
    "\n",
    "2. 找到一个更好的算法报告数组A中的前k小的项, 使用伪代码表示你的算法, 并分析你算法的时间复杂度。\n",
    "\n",
    "举例：A=[13, 3, 7, 9, 11, 1, 15, 2, 8, 10, 12, 16, 14, 5], 当k=4时, 应该报告1, 2, 3, 4\n",
    "\n",
    "note： 最直观的方法就是先将数组A排序, 然后从左向右报告其前k项, 这样操作的时间复杂度为$O(nlogn)$. 调用用` BB(A,p,r,k)`设计一个算法使其报告无序数组A的前k项, 满足时间复杂度好于$\\Theta(nlogn)$, 并且当$k=\\sqrt{n}$时, 你设计的算法时间复杂度应该为$\\Theta(n)$.\n",
    "\n",
    "\n",
    "\n",
    "3. 给定一个大小为n的数组, 找到一个 时间复杂度为$O(n log k)$ 的算法, 该算法将A中的元素重新排序, 使它们被划分为k个部分, 每个部分的元素小于或等于下一部分的元素。假设n和k都是2的幂。使用伪代码表示你的算法, 并分析时间复杂度。\n",
    "\n",
    "e.g.:\n",
    "---\n",
    "数组：[1,  3,  5,  7,  9,  11,  13,  15,  2,  4,  6,  8,  10,  12,  16,  14], k=4, \n",
    "\n",
    "对应重新排序的数组为：[1,  3,  2,  4]  [7,  6,  5,  8]  [12,  11,  10,  9]  [13,  14,  16,  15]\n",
    "\n",
    "\n"
   ]
  },
  {
   "cell_type": "markdown",
   "metadata": {},
   "source": [
    "idea："
   ]
  },
  {
   "cell_type": "markdown",
   "metadata": {},
   "source": [
    "### 1. 修改快排\n",
    "\n",
    "用 BB 函数找出子段内的中位数，以中位数为 pivot \n",
    "\n",
    "**伪代码：**\n",
    "\n",
    "```\n",
    "QuickSort(A, p, r):\n",
    "    if p < r:\n",
    "        pivot = BB(A, p, r, (r - p + 1) / 2)  \n",
    "        q = Partition(A, p, r, A[pivot])  \n",
    "        QuickSort(A, p, q - 1)\n",
    "        QuickSort(A, q + 1, r)\n",
    "```\n",
    "\n",
    "**时间复杂度：**\n",
    "\n",
    "递归深度 O(logn)\n",
    "\n",
    "每层 Partition 时间复杂度 O(n)\n",
    "\n",
    "总的时间复杂度 O(nlogn)"
   ]
  },
  {
   "cell_type": "markdown",
   "metadata": {},
   "source": [
    "### 2. 报告前K项\n",
    "\n",
    "用 BB 函数找出第 K 小的项作为 pivot，一轮排序后得到前 K 项的子串，再进行排序\n",
    "\n",
    "**伪代码：**\n",
    "\n",
    "```\n",
    "GetK(A, p, r, k):\n",
    "    pivot = BB(A, p, r, k)\n",
    "    pivot = A[pivot]\n",
    "    q = Partition(A, p, r, pivot)\n",
    "    sort(A,0,q)\n",
    "    return A[:k]\n",
    "```\n",
    "\n",
    "**时间复杂度：**\n",
    "\n",
    "相比先排序再查找，这样的好处是少排一部分数据\n",
    "\n",
    "满足 当$k=\\sqrt{n}$时, 算法时间复杂度为$\\Theta(n)$."
   ]
  },
  {
   "cell_type": "markdown",
   "metadata": {},
   "source": [
    "### 3. 划分 K bufen\n",
    "\n",
    "递归调用 BB 寻找 K 划分点\n",
    "\n",
    "**伪代码：**\n",
    "\n",
    "```\n",
    "DivideK(A,p,r,k):\n",
    "    mid = k/2\n",
    "    pivot = BB(A,p,r,mid)\n",
    "    pivot = A[pivot]\n",
    "    q = Partition(A,p,r,pivot)\n",
    "    DivideK(A,p,q-1,mid)\n",
    "    DivideK(A,q,r,k-mid)\n",
    "```"
   ]
  },
  {
   "cell_type": "markdown",
   "metadata": {},
   "source": [
    "---"
   ]
  },
  {
   "cell_type": "markdown",
   "metadata": {},
   "source": [
    "## 问题 10：\n",
    "\n",
    "给定一个包含m个**字符串**的数组A, 其中不同的字符串可能有不同的字符数, 但数组中所有字符串的字符总数为n。设计一个算法在 $O(n)$ 时间内对字符串进行排序, 分析算法设计方案, 计算其时间复杂度, 并基于python编程实现该算法。请注意, 假设字符串只包含\"a\",\"b\",...,\"z\", \n",
    "\n",
    "\n",
    "\n",
    "举例1：数组A=[\"a\", \"da\", \"bde\", \"ab\", \"bc\", \"abdc\", \"cdba\"], 排序后的数组应该为：['a', 'ab', 'abdc', 'bc', 'bde', 'cdba', 'da']\n",
    "\n",
    "\n",
    "\n",
    "举例2：数组A=['ab', 'a', 'b', 'abc', 'ba', 'c'], 排序后的数组应该为：\n",
    "\n",
    "['a', 'ab', 'abc', 'b', 'ba', 'c']\n",
    "\n",
    "\n",
    "\n",
    "举例3：数组A=['aef', 'yzr', 'wr', 'ab', 'bhjc', 'lkabdc', 'pwcdba'],  排序后的数组应该为：['ab', 'aef', 'bhjc', 'lkabdc', 'pwcdba', 'wr', 'yzr']\n",
    "\n",
    "\n",
    "\n",
    "note：\n",
    "\n",
    "-  两个字符之间的比较可以考虑比较他们对应的ASCII码值；\n",
    "- python中可以使用`ord(\"a\")`返回字符 “a”对应的ASCII值"
   ]
  },
  {
   "cell_type": "markdown",
   "metadata": {},
   "source": [
    "idea:"
   ]
  },
  {
   "cell_type": "markdown",
   "metadata": {},
   "source": [
    "基数排序\n",
    "\n",
    "代码实现参考了GPT"
   ]
  },
  {
   "cell_type": "code",
   "execution_count": 31,
   "metadata": {},
   "outputs": [
    {
     "name": "stdout",
     "output_type": "stream",
     "text": [
      "['a', 'ab', 'abdc', 'bc', 'bde', 'cdba', 'da']\n",
      "['a', 'ab', 'abc', 'b', 'ba', 'c']\n",
      "['ab', 'aef', 'bhjc', 'lkabdc', 'pwcdba', 'wr', 'yzr']\n"
     ]
    }
   ],
   "source": [
    "# add your code here\n",
    "# your algorithm time complexity is : O(n)\n",
    "\n",
    "def counting_sort_strings(arr, index):\n",
    "    count = [0] * 26\n",
    "    output = [\"\"] * len(arr)\n",
    "    \n",
    "    for s in arr:\n",
    "        char = s[index] if index < len(s) else 'a' \n",
    "        count[ord(char) - ord('a')] += 1\n",
    "    \n",
    "   \n",
    "    for i in range(1, 26):\n",
    "        count[i] += count[i-1]\n",
    "    \n",
    "    for s in reversed(arr):\n",
    "        char = s[index] if index < len(s) else 'a'\n",
    "        pos = ord(char) - ord('a')\n",
    "        output[count[pos] - 1] = s\n",
    "        count[pos] -= 1\n",
    "    return output\n",
    "\n",
    "def radix_sort_strings(arr):\n",
    "    max_len = max(len(s) for s in arr)\n",
    "    for i in range(max_len - 1, -1, -1):\n",
    "        arr = counting_sort_strings(arr, i)\n",
    "    return arr\n",
    "\n",
    "A1 = [\"a\", \"da\", \"bde\", \"ab\", \"bc\", \"abdc\", \"cdba\"]\n",
    "print(radix_sort_strings(A1))\n",
    "\n",
    "A2 = ['ab', 'a', 'b', 'abc', 'ba', 'c']\n",
    "print(radix_sort_strings(A2))  \n",
    "\n",
    "A3 = A=['aef', 'yzr', 'wr', 'ab', 'bhjc', 'lkabdc', 'pwcdba']\n",
    "print(radix_sort_strings(A3))"
   ]
  }
 ],
 "metadata": {
  "kernelspec": {
   "display_name": "daily38",
   "language": "python",
   "name": "python3"
  },
  "language_info": {
   "codemirror_mode": {
    "name": "ipython",
    "version": 3
   },
   "file_extension": ".py",
   "mimetype": "text/x-python",
   "name": "python",
   "nbconvert_exporter": "python",
   "pygments_lexer": "ipython3",
   "version": "3.8.20"
  }
 },
 "nbformat": 4,
 "nbformat_minor": 2
}
