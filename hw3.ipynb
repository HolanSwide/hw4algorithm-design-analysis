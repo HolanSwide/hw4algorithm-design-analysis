{
 "cells": [
  {
   "cell_type": "markdown",
   "metadata": {},
   "source": [
    "## algorithm design and anlysis-2025 spring  homework 3\n",
    "**Deadline**：2025.5.14\n",
    "\n",
    "**name**: 何宗欣 112024321341910\n",
    "\n",
    "\n",
    "note：\n",
    "---\n",
    "1. 带有\\*的题目，申请免上课的同学，必须完成，其他同学选作；\n",
    "2. 请独立完成，如求助了他人或者大模型，请著明，并且不可省略算法分析部分；\n",
    "4. 如若作答有雷同，全部取消成绩；\n",
    "3. 需要书面作答的题目，可以通过引用图片的形式添加，但是注意上传项目时包含所引用的图片的源文件；\n",
    "4. $log_n$ 默认表示$log_2{n}$;"
   ]
  },
  {
   "cell_type": "markdown",
   "metadata": {},
   "source": [
    "## 问题 1  \n",
    "\n",
    "请证明基于比较的排序算法计算复杂度下界为$\\Omega(nlogn)$"
   ]
  },
  {
   "cell_type": "markdown",
   "metadata": {},
   "source": [
    "## 证明：\n",
    "\n",
    "基于比较的排序算法通常包括以下步骤：\n",
    "\n",
    "1. 比较两个元素。\n",
    "2. 如果不满足指定的顺序，则交换这两个元素。\n",
    "3. 重复上述步骤，直到整个序列被排序。\n",
    "\n",
    "常见的比较算法包括冒泡排序、插入排序和快速排序等，其复杂度基本上由比较的次数决定，这些算法的比较方式大致可以分为两类：\n",
    "\n",
    "### 1. 直接遍历比较\n",
    "\n",
    "冒泡排序和插入排序在每次迭代中都会直接比较相邻的元素。\n",
    "\n",
    "例如冒泡排序：\n",
    "\n",
    "```python\n",
    "for i in range(len(arr)):\n",
    "    for j in range(0, len(arr)-i-1):\n",
    "        pass\n",
    "```\n",
    "\n",
    "其时间复杂度通常是O(n^2)，其中n是数组的长度。\n",
    "\n",
    "### 2. 分治策略\n",
    "\n",
    "例如快速排序：采用了二分法，每次选择一个元素作为基准（pivot），然后将数组分为两部分：一部分包含小于等于这个基准的元素，另一部分包含大于这个基准的元素。\n",
    "\n",
    "这样能够减少比较的次数。\n",
    "\n",
    "在二分的情形下，比较的过程可以视为二叉树的结构：每个节点代表一次比较。\n",
    "\n",
    "高度为 $h$ 的一棵完全二叉树最多有 $2^h - 1$ 个节点，其中 $h = \\log_2(n)$。\n",
    "\n",
    "因此：分治的比较方法在做坏的情况下也至少需要比较 $\\Omega(nlogn)$ 次\n",
    "\n",
    "**综上：任何基于比较的排序方法复杂度下界为  $\\Omega(nlogn)$**\n",
    "\n",
    "---"
   ]
  },
  {
   "cell_type": "markdown",
   "metadata": {},
   "source": [
    "## 问题 2 \n",
    "\n",
    "构建二叉搜索树\n",
    "\n",
    "> 1. 给定一个数组 [48, 33, 49, 47, 42, 46, 32], 构建一个二叉搜索树存储这些数据，请**绘制**所构建的**二叉搜索树**（标明结点的值）。\n",
    "> 2. 从第1问的二叉搜索树中删除33，请**绘制**删除33后的**二叉搜索树**（标明结点的值）\n",
    "\n",
    "- 推荐使用graphviz包绘制树的结构"
   ]
  },
  {
   "cell_type": "markdown",
   "metadata": {},
   "source": [
    "## 解答：\n",
    "\n",
    "[绘图程序](./draw_bst.py)\n",
    "### 1. 构建二叉树\n",
    "\n",
    "![](./fig/hw3_1.png)\n",
    "\n",
    "### 2. 删除节点\n",
    "\n",
    "![](./fig/hw3_2.png)\n",
    "\n",
    "---"
   ]
  },
  {
   "cell_type": "markdown",
   "metadata": {},
   "source": [
    "## 问题 3 \n",
    "\n",
    "> 下面是九门课程的开始和结束时间:\n",
    ">\n",
    "> [(9:00,12:30), (11:00,14:00), (13:00, 14:30), (9:00,10:30),(13:00, 14:30),(14:00,16:30), (15:00,16:30), (15:00,16:30), (9:00,10:30)]\n",
    ">\n",
    "> 请使用贪婪算法为这九门课分配教室，要求在同一天内安排这些课，并且每个教室同一时间只能安排一门课。\n",
    "\n",
    "**请问最少需要几间教室，罗列出每个教室安排的课程**"
   ]
  },
  {
   "cell_type": "markdown",
   "metadata": {},
   "source": [
    "idea：\n",
    "\n",
    "1. 先将数据进行处理，统一化为分钟。\n",
    "2. 按照开始时间的从早到晚排序\n",
    "3. 维护一个小根堆，存放课程的起始时间和结束时间对，按照结束时间的从早到晚存储\n",
    "   1. 遍历课程，如果当前课程的开始时间大于堆顶的结束时间，则弹出堆顶元素\n",
    "   2. 加入当前课程到堆中\n",
    "   3. 否则就需要新增教室"
   ]
  },
  {
   "cell_type": "code",
   "execution_count": 4,
   "metadata": {},
   "outputs": [
    {
     "name": "stdout",
     "output_type": "stream",
     "text": [
      "最少需要 3 间教室\n",
      "教室 1: [('9:00', '10:30'), ('11:00', '14:00'), ('14:00', '16:30')]\n",
      "教室 2: [('9:00', '10:30'), ('13:00', '14:30'), ('15:00', '16:30')]\n",
      "教室 3: [('9:00', '12:30'), ('13:00', '14:30'), ('15:00', '16:30')]\n"
     ]
    }
   ],
   "source": [
    "import heapq\n",
    "\n",
    "def to_minutes(time_str):\n",
    "    h, m = map(int, time_str.split(':'))\n",
    "    return h * 60 + m\n",
    "\n",
    "def solution(courses):\n",
    "    processed = []\n",
    "    for i, (start, end) in enumerate(courses):\n",
    "        processed.append((to_minutes(start), to_minutes(end), i))\n",
    "    processed.sort()  \n",
    "\n",
    "    heap = []\n",
    "    classrooms = []\n",
    "\n",
    "    for start, end, idx in processed:\n",
    "        if heap and heap[0][0] <= start:\n",
    "            _, room_idx = heapq.heappop(heap)\n",
    "            classrooms[room_idx].append(idx)\n",
    "        else:\n",
    "            room_idx = len(classrooms)\n",
    "            classrooms.append([idx])\n",
    "        heapq.heappush(heap, (end, room_idx))\n",
    "\n",
    "    return classrooms\n",
    "\n",
    "\n",
    "courses = [\n",
    "    (\"9:00\", \"12:30\"), (\"11:00\", \"14:00\"), (\"13:00\", \"14:30\"),\n",
    "    (\"9:00\", \"10:30\"), (\"13:00\", \"14:30\"), (\"14:00\", \"16:30\"),\n",
    "    (\"15:00\", \"16:30\"), (\"15:00\", \"16:30\"), (\"9:00\", \"10:30\")\n",
    "]\n",
    "\n",
    "\n",
    "classrooms = solution(courses)\n",
    "\n",
    "print(f\"最少需要 {len(classrooms)} 间教室\")\n",
    "for i, classroom in enumerate(classrooms):\n",
    "    print(f\"教室 {i + 1}: {[courses[idx] for idx in classroom]}\")"
   ]
  },
  {
   "cell_type": "markdown",
   "metadata": {},
   "source": [
    "---"
   ]
  },
  {
   "cell_type": "markdown",
   "metadata": {},
   "source": [
    "## 问题 4 \n",
    "\n",
    "> 爬楼梯问题：假设爬楼梯时你每次只能爬一阶或者爬两阶，问爬上n阶的楼梯，你一共有多少种方法\n",
    "\n",
    "请设计算法完成该问题，分析算法设计思路，计算时间复杂度，并基于python编程实现"
   ]
  },
  {
   "cell_type": "markdown",
   "metadata": {},
   "source": [
    "idea：\n",
    "\n",
    "在第 n 级阶梯上，只有两种可能的方式可以到达：\n",
    "\n",
    "1. 从第 n-1 级阶梯迈 1 步到达。\n",
    "2. 从第 n-2 级阶梯迈 2 步到达。\n",
    "\n",
    "因此有状态转移方程：\n",
    "\n",
    "$$f(n) = f(n-1) + f(n-2)$$\n",
    "\n",
    "初始条件： \n",
    "\n",
    "$$f(1) = 1, f(2) = 2$$"
   ]
  },
  {
   "cell_type": "code",
   "execution_count": 3,
   "metadata": {},
   "outputs": [],
   "source": [
    "# add your code here\n",
    "# your algorithm time complexity is: O(n)\n",
    "\n",
    "def solution(n):\n",
    "    if n == 0:\n",
    "        return 0\n",
    "    elif n == 1:\n",
    "        return 1\n",
    "    elif n == 2:\n",
    "        return 2\n",
    "    \n",
    "    a = 1  \n",
    "    b = 2       \n",
    "    for i in range(3, n + 1):\n",
    "        res = a + b\n",
    "        a,b = b, res\n",
    "    return res"
   ]
  },
  {
   "cell_type": "code",
   "execution_count": 6,
   "metadata": {},
   "outputs": [
    {
     "data": {
      "text/plain": [
       "89"
      ]
     },
     "execution_count": 6,
     "metadata": {},
     "output_type": "execute_result"
    }
   ],
   "source": [
    "solution(10)"
   ]
  },
  {
   "cell_type": "markdown",
   "metadata": {},
   "source": [
    "---"
   ]
  },
  {
   "cell_type": "markdown",
   "metadata": {},
   "source": [
    "## 问题 5 \n",
    "\n",
    "> 0-1背包问题：现在有4块大理石，每个大理石对应的重量和价值使用一个元组表示, 即（重量，价值），4块大理石的重量和价值为：[(5,10), (4,40), (6,30), (3, 50)], 假设你有一辆最大承重为9的小推车，请问使用这个小推车装大理石的最大价值为多少\n",
    "\n",
    "请设计一个算法解决该问题，分析算法设计思路，计算时间复杂度，并基于python编程实现"
   ]
  },
  {
   "cell_type": "markdown",
   "metadata": {},
   "source": [
    "idea：\n",
    "\n",
    "`dp[i][j]` 表示前 i 个物品，背包容量为 j 时能装的最大价值\n",
    "\n",
    "状态转移方程为：\n",
    "\n",
    "`dp[i][j] = max(dp[i-1][j], dp[i-1][j - weight[i]] + value[i])`\n",
    "\n",
    "初始条件：\n",
    "\n",
    "`dp[0][j] = 0, j > 0`\n",
    "\n",
    "要求的结果就是：\n",
    "\n",
    "`dp[n][W]`"
   ]
  },
  {
   "cell_type": "code",
   "execution_count": 7,
   "metadata": {},
   "outputs": [
    {
     "data": {
      "text/plain": [
       "90"
      ]
     },
     "execution_count": 7,
     "metadata": {},
     "output_type": "execute_result"
    }
   ],
   "source": [
    "# add your code here\n",
    "# your algorithm time complexity is: O(n^2)\n",
    "\n",
    "def solution(rocks,bag_size):\n",
    "    n = len(rocks)\n",
    "    dp = [[0] * (bag_size + 1) for _ in range(n + 1)]\n",
    "    \n",
    "    for i in range(1, n + 1):\n",
    "        w,v = rocks[i - 1]\n",
    "        for j in range(1, bag_size + 1):\n",
    "            if j < w:\n",
    "                dp[i][j] = dp[i - 1][j]\n",
    "            else:\n",
    "                dp[i][j] = max(dp[i - 1][j], dp[i - 1][j - w] + v)\n",
    "    return dp[n][bag_size]\n",
    "\n",
    "rocks = [(5,10), (4,40), (6,30), (3, 50)]\n",
    "bag_size = 9\n",
    "solution(rocks, bag_size)"
   ]
  },
  {
   "cell_type": "markdown",
   "metadata": {},
   "source": [
    "---"
   ]
  },
  {
   "cell_type": "markdown",
   "metadata": {},
   "source": [
    "## 问题 6 \n",
    "给定 `n` 个非负整数表示每个宽度为 `1` 的柱子的高度图，计算按此排列的柱子，下雨之后能接多少雨水。\n",
    "\n",
    "\n",
    "\n",
    "<div style=\"text-align:center;width:800px;\"> <img alt=\"\" src=\"./fig/hw3q6.png\"> </div>\n",
    "\n",
    "请分析算法设计思路，计算时间复杂度，并基于python编程实现"
   ]
  },
  {
   "cell_type": "markdown",
   "metadata": {},
   "source": [
    "idea：\n",
    "\n",
    "对于每个柱子，上面能够接的雨水都只与它左边和右边最高的柱子有关，能够发现：\n",
    "\n",
    "1. 能接的水最多不能超过左右两侧最高的柱子中较小的一个减去当前柱子的高度。\n",
    "2. 能接的雨水最低是 0\n",
    "\n",
    "因此：\n",
    "\n",
    "对于柱子 `i`: 能够接的雨水 `f[i] = min(left_max[i], right_max[i]) - height[i] `"
   ]
  },
  {
   "cell_type": "code",
   "execution_count": 8,
   "metadata": {},
   "outputs": [
    {
     "data": {
      "text/plain": [
       "6"
      ]
     },
     "execution_count": 8,
     "metadata": {},
     "output_type": "execute_result"
    }
   ],
   "source": [
    "# add your code here\n",
    "# your algorithm time complexity is: O(n)\n",
    "\n",
    "def solution(heights):\n",
    "    n = len(heights)\n",
    "    lmax = [0] * n\n",
    "    rmax = [0] * n\n",
    "    res = 0\n",
    "    \n",
    "    for i in range(1, n):\n",
    "        lmax[i] = max(lmax[i - 1], heights[i - 1])\n",
    "    for i in range(n - 2, -1, -1):\n",
    "        rmax[i] = max(rmax[i + 1], heights[i + 1])\n",
    "    \n",
    "    for i in range(n):\n",
    "        res += max(0, min(lmax[i], rmax[i])- heights[i])\n",
    "    return res\n",
    "    \n",
    "solution([0,1,0,2,1,0,1,3,2,1,2,1])"
   ]
  },
  {
   "cell_type": "code",
   "execution_count": 9,
   "metadata": {},
   "outputs": [
    {
     "data": {
      "text/plain": [
       "9"
      ]
     },
     "execution_count": 9,
     "metadata": {},
     "output_type": "execute_result"
    }
   ],
   "source": [
    "solution([4,2,0,3,2,5])"
   ]
  },
  {
   "cell_type": "markdown",
   "metadata": {},
   "source": [
    "---"
   ]
  },
  {
   "cell_type": "markdown",
   "metadata": {},
   "source": [
    "## 问题 7 \n",
    "\n",
    "**股票投资组合优化**： 假设你是一位投资者，想要在不同的股票中分配你的资金，以最大化你的投资回报。每只股票都有不同的预期收益率和风险。你的目标是选择一些股票，使得总投资金额不超过你的预算，并且预期收益最大化。\n",
    "\n",
    "在这个情况下，你可以将每只股票视为一个“物品”，其重量为投资金额，价值为预期收益率。然后，你可以使用分级背包问题的方法来选择部分股票，以便在预算内获得最大的预期收益。\n",
    "\n",
    "以下是一个简化的例子：\n",
    "\n",
    "假设你有以下三只股票可供选择：\n",
    "\n",
    "1. 股票 A：投资金额 5000 美元，预期收益率 10%\n",
    "2. 股票 B：投资金额 3000 美元，预期收益率 8%\n",
    "3. 股票 C：投资金额 2000 美元，预期收益率 12%\n",
    "\n",
    "请设计算法找到最优投资方案，分析算法设计思路，计算时间复杂度，并基于python编程实现"
   ]
  },
  {
   "cell_type": "markdown",
   "metadata": {},
   "source": [
    "idea：\n",
    "\n",
    "是否可以部分购买股票？\n",
    "\n",
    "**如果可以的话：**\n",
    "\n",
    "适用贪心方法：优先购买收益率高的资产，直到预算用完。\n",
    "\n",
    "即：\n",
    "\n",
    "- 对所有的股票按照收益率从高到低排序。\n",
    "- 遍历排序后的股票列表，对于每个股票：\n",
    "  - 如果当前预算足够购买该股票，则更新剩余预算和购买的股票数量。\n",
    "  - 如果当前预算不足以购买该股票，则花光预算部分购买。\n",
    "- 返回购买的股票数量。"
   ]
  },
  {
   "cell_type": "code",
   "execution_count": 15,
   "metadata": {},
   "outputs": [
    {
     "data": {
      "text/plain": [
       "[('C', 2000, 0.12), ('A', 4000, 0.1)]"
      ]
     },
     "execution_count": 15,
     "metadata": {},
     "output_type": "execute_result"
    }
   ],
   "source": [
    "# add your code here\n",
    "# your algorithm time complexity is:\n",
    "\n",
    "def solution(stocks, money):\n",
    "    stocks.sort(key = lambda x: -x[-1])\n",
    "    res = []\n",
    "    for stock in stocks:\n",
    "        name, price, rate = stock\n",
    "        if money >= price:\n",
    "            res.append((name, price, rate))\n",
    "            money -= price\n",
    "        else:\n",
    "            res.append((name, money, rate))\n",
    "            money = 0\n",
    "            break\n",
    "    return res\n",
    "\n",
    "solution([('A',5000, 0.1), ('B',3000, 0.08), ('C',2000, 0.12)], 6000)"
   ]
  },
  {
   "cell_type": "markdown",
   "metadata": {},
   "source": [
    "---"
   ]
  },
  {
   "cell_type": "markdown",
   "metadata": {},
   "source": [
    "## 问题 8\n",
    "\n",
    "给你二叉搜索树的根节点 root ，该树中的恰好两个节点的值被错误地交换。请在不改变其结构的情况下，恢复这棵树 。设计算法解决该问题，分析算法设计思路，计算时间复杂度，并基于python编程实现\n",
    "\n",
    "e.g.:\n",
    "---\n",
    "1.\n",
    "\n",
    "<div style=\"text-align:center;width:200px;\"> <img alt=\"\" src=\"./fig/hw3q9-1.jpg\"> </div>\n",
    "输入：root = [1,3,null,null,2]， 输出为：[3,1,null,null,2]， \n",
    "\n",
    "解释：3 不能是 1 的左孩子，因为 3 > 1 。交换 1 和 3 使二叉搜索树有效。\n",
    "\n",
    "2.\n",
    "\n",
    " <div style=\"text-align:center;width:200px;\"> <img alt=\"\" src=\"./fig/hw3q9-1.jpg\"> </div>\n",
    "输入： root=[3,1,4,null,null,2]， 输出为：[2,1,4,null,null,3]\n",
    "\n",
    "解释：2 不能在 3 的右子树中，因为 2 < 3 。交换 2 和 3 使二叉搜索树有效。"
   ]
  },
  {
   "cell_type": "markdown",
   "metadata": {},
   "source": [
    "idea：\n",
    "\n",
    "题设保证了只有一对节点的值被错误交换，即只需要找到不符合 bst 性质的两个节点，再交换就得到了正确的输出：\n",
    "\n",
    "- 建树\n",
    "- 遍历树，记录不符合 bst 性质的节点\n",
    "- 交换这两个节点\n",
    "- 再次遍历树，输出结果\n",
    "\n",
    "根据样例，输入输出都是树的层次遍历"
   ]
  },
  {
   "cell_type": "code",
   "execution_count": null,
   "metadata": {},
   "outputs": [
    {
     "data": {
      "text/plain": [
       "[3, 1, None, None, 2]"
      ]
     },
     "execution_count": 40,
     "metadata": {},
     "output_type": "execute_result"
    }
   ],
   "source": [
    "# add your code here\n",
    "# your algorithm time complexity is: O(n^2)\n",
    "\n",
    "class Node:\n",
    "    def __init__(self, val, left=None, right=None,):\n",
    "        self.val = val\n",
    "        self.left = None\n",
    "        self.right = None\n",
    "\n",
    "def buid_tree(arr):\n",
    "    root = Node(arr[0])\n",
    "    pos = 1\n",
    "    # 借助队列从层次遍历构建二叉树\n",
    "    queue = [root]\n",
    "    while pos < len(arr):\n",
    "        node = queue.pop(0)\n",
    "        if arr[pos] is not None:\n",
    "            node.left = Node(arr[pos])\n",
    "            queue.append(node.left)\n",
    "        pos += 1\n",
    "        if pos < len(arr) and arr[pos] is not None:\n",
    "            node.right = Node(arr[pos])\n",
    "            queue.append(node.right)\n",
    "        pos += 1\n",
    "    return root\n",
    "\n",
    "def to_array(root,length=0):\n",
    "    queue = [root]\n",
    "    res = []\n",
    "    while queue:\n",
    "        node = queue.pop(0)\n",
    "        if node:\n",
    "            res.append(node.val)\n",
    "            queue.append(node.left)\n",
    "            queue.append(node.right)\n",
    "        else:\n",
    "            res.append(None)\n",
    "    return res[:length]\n",
    "\n",
    "def solution(arr):\n",
    "    root = buid_tree(arr)\n",
    "    rtcp = root\n",
    "    # dfs\n",
    "    stack = []\n",
    "    A = B = Temp = None\n",
    "    while stack or root:\n",
    "        while root:\n",
    "            stack.append(root)\n",
    "            root = root.left\n",
    "        root = stack.pop()\n",
    "        # 找不符合的节点\n",
    "        if Temp is not None:\n",
    "            if root.val < Temp.val:\n",
    "                B = root\n",
    "                if A is None:\n",
    "                    A = Temp\n",
    "                else:\n",
    "                    break\n",
    "        Temp = root\n",
    "        root = root.right\n",
    "        \n",
    "    if A is not None and B is not None:\n",
    "        A.val, B.val = B.val, A.val\n",
    "    return to_array(rtcp,length=len(arr))\n",
    "        \n",
    "solution([1,3,None,None,2])"
   ]
  },
  {
   "cell_type": "code",
   "execution_count": 42,
   "metadata": {},
   "outputs": [
    {
     "data": {
      "text/plain": [
       "[2, 1, 4, None, None, 3]"
      ]
     },
     "execution_count": 42,
     "metadata": {},
     "output_type": "execute_result"
    }
   ],
   "source": [
    "solution([3, 1, 4, None, None, 2])"
   ]
  },
  {
   "cell_type": "markdown",
   "metadata": {},
   "source": [
    "---"
   ]
  },
  {
   "cell_type": "markdown",
   "metadata": {},
   "source": [
    "## 问题 9  \n",
    "\n",
    "给你一个二叉树的根节点 root ，树中每个节点都存放有一个 0 到 9 之间的数字。每条从根节点到叶节点的路径都代表一个数字：\n",
    "\n",
    "> 例如，从根节点到叶节点的路径 1 -> 2 -> 3 表示数字 123 。\n",
    "\n",
    "设计一个算法计算从根节点到叶节点生成的所有数字之和 ，分析算法设计思路，计算时间复杂度，并基于python编程实现\n",
    "\n",
    "叶节点:是指没有子节点的节点。\n",
    "\n",
    "e.g.:\n",
    "---\n",
    "1.\n",
    "\n",
    " <div style=\"text-align:center;width:200px;\"> <img alt=\"figure\" src=\"./fig/hw3q10-1.jpg\"> </div>\n",
    "\n",
    " 输入：root = [1,2,3], 输出：25\n",
    "\n",
    "解释：从根到叶子节点路径 1->2 代表数字 12，1->3 代表数字 13，因此和为 12 + 13 = 25 。\n",
    "\n",
    "2.\n",
    "\n",
    " <div style=\"text-align:center;width:200px;\"> <img alt=\"figure\" src=\"./fig/hw3q10-2.jpg\"> </div>\n",
    "\n",
    " 输入：root = [4,9,0,5,1], 输出：1026\n",
    "\n",
    "解释：从根到叶子节点路径 4->9->5 代表数字 495，4->9->1 代表数字 491，4->0 代表数字 40。因此和为 495 + 491 + 40 = 1026 。"
   ]
  },
  {
   "cell_type": "markdown",
   "metadata": {},
   "source": [
    "idea：\n",
    "\n",
    "- 先根据层次遍历的输入构建二叉树\n",
    "- dfs 遍历二叉树，直接修改节点的值为： `self.val += parent.val * 10`\n",
    "- 要返回的值就是所有叶子节点的值的和"
   ]
  },
  {
   "cell_type": "code",
   "execution_count": 46,
   "metadata": {},
   "outputs": [
    {
     "data": {
      "text/plain": [
       "25"
      ]
     },
     "execution_count": 46,
     "metadata": {},
     "output_type": "execute_result"
    }
   ],
   "source": [
    "# add your code here\n",
    "# your algorithm time complexity is: O(n)\n",
    "\n",
    "class Node:\n",
    "    def __init__(self, val, left=None, right=None):\n",
    "        self.val = val\n",
    "        self.left = left\n",
    "        self.right = right\n",
    "\n",
    "def build_tree(arr):\n",
    "    root = Node(arr[0])\n",
    "    queue = [root]\n",
    "    pos = 1\n",
    "    \n",
    "    while pos < len(arr):\n",
    "        node = queue.pop(0)\n",
    "        if arr[pos] is not None:\n",
    "            node.left = Node(arr[pos])\n",
    "            queue.append(node.left)\n",
    "        pos += 1\n",
    "        if pos < len(arr) and arr[pos] is not None:\n",
    "            node.right = Node(arr[pos])\n",
    "            queue.append(node.right)\n",
    "        pos += 1\n",
    "    \n",
    "    return root\n",
    "\n",
    "def solution(arr):\n",
    "    root = build_tree(arr)\n",
    "    stack = []\n",
    "    result = 0\n",
    "    tmp = 0\n",
    "    while stack or root:\n",
    "        while root:\n",
    "            root.val += tmp*10\n",
    "            tmp = root.val\n",
    "            if root.left is None and root.right is None:\n",
    "                result += root.val\n",
    "            stack.append(root)\n",
    "            root = root.left\n",
    "        root = stack.pop()\n",
    "        tmp = root.val\n",
    "        root = root.right\n",
    "    \n",
    "    return result\n",
    "\n",
    "solution([1,2,3])"
   ]
  },
  {
   "cell_type": "code",
   "execution_count": 47,
   "metadata": {},
   "outputs": [
    {
     "data": {
      "text/plain": [
       "1026"
      ]
     },
     "execution_count": 47,
     "metadata": {},
     "output_type": "execute_result"
    }
   ],
   "source": [
    "solution([4,9,0,5,1])"
   ]
  },
  {
   "cell_type": "markdown",
   "metadata": {},
   "source": [
    "---"
   ]
  },
  {
   "cell_type": "markdown",
   "metadata": {},
   "source": [
    "## 问题 10  \n",
    "\n",
    "给你一个二叉树的根节点 root ， 检查它是否轴对称。\n",
    "\n",
    "1. 分析算法设计思路，计算时间复杂度，并基于python编程实现\n",
    "2. \\* 设计使用递归和迭代两种方法解决这个问题，计算时间复杂度，并基于python编程实现\n",
    "\n",
    "e.g.:\n",
    "---\n",
    "1.\n",
    "\n",
    " <div style=\"text-align:center;width:200px;\"> <img alt=\"figure\" src=\"./fig/hw3q11-1.png\"> </div>\n",
    "\n",
    " 输入：root = [1,2,2,3,4,4,3]， 输出：true\n",
    "\n",
    "解释：二叉树 [1,2,2,3,4,4,3] 对称。\n",
    "\n",
    "2.\n",
    "\n",
    " <div style=\"text-align:center;width:200px;\"> <img alt=\"figure\" src=\"./fig/hw3q11-2.png\"> </div>\n",
    "\n",
    " 输入：root = [1,2,2,null,3,null,3]， 输出：false"
   ]
  },
  {
   "cell_type": "markdown",
   "metadata": {},
   "source": [
    "idea\n",
    "\n",
    "**递归方法：**\n",
    "\n",
    "递归比较左右镜像节点：\n",
    "\n",
    "- `left = root.left; right = root.right;`\n",
    "- `left.val == right.val ? continue : return false;`\n",
    "- 递归比较`left.right == right.left && left.left == right.right;`"
   ]
  },
  {
   "cell_type": "code",
   "execution_count": 48,
   "metadata": {},
   "outputs": [
    {
     "data": {
      "text/plain": [
       "True"
      ]
     },
     "execution_count": 48,
     "metadata": {},
     "output_type": "execute_result"
    }
   ],
   "source": [
    "# add your code here\n",
    "# your algorithm time complexity is: O(n)\n",
    "\n",
    "class Node:\n",
    "    def __init__(self, val, left=None, right=None):\n",
    "        self.val = val\n",
    "        self.left = left\n",
    "        self.right = right\n",
    "\n",
    "def build_tree(arr):\n",
    "    root = Node(arr[0])\n",
    "    queue = [root]\n",
    "    pos = 1\n",
    "    \n",
    "    while pos < len(arr):\n",
    "        node = queue.pop(0)\n",
    "        if arr[pos] is not None:\n",
    "            node.left = Node(arr[pos])\n",
    "            queue.append(node.left)\n",
    "        pos += 1\n",
    "        if pos < len(arr) and arr[pos] is not None:\n",
    "            node.right = Node(arr[pos])\n",
    "            queue.append(node.right)\n",
    "        pos += 1\n",
    "    \n",
    "    return root\n",
    "\n",
    "def compare(left, right):\n",
    "    if left is None and right is None:\n",
    "        return True\n",
    "    if left is None or right is None:\n",
    "        return False\n",
    "    return left.val == right.val and compare(left.left, right.right) and compare(left.right, right.left)\n",
    "    \n",
    "\n",
    "def solution(arr):\n",
    "    root = build_tree(arr)\n",
    "    result = compare(root.left, root.right)\n",
    "    \n",
    "    return result\n",
    "\n",
    "solution([1,2,2,3,4,4,3])"
   ]
  },
  {
   "cell_type": "code",
   "execution_count": 49,
   "metadata": {},
   "outputs": [
    {
     "data": {
      "text/plain": [
       "False"
      ]
     },
     "execution_count": 49,
     "metadata": {},
     "output_type": "execute_result"
    }
   ],
   "source": [
    "solution([1,2,2,None,3,None,3])"
   ]
  },
  {
   "cell_type": "markdown",
   "metadata": {},
   "source": [
    "**迭代法：**\n",
    "\n",
    "层次遍历，判断每层是否对称：\n",
    "\n",
    "- 初始化队列，将根节点入队\n",
    "- 出队一个元素，就将其左右子节点入队\n",
    "- 按层次判断队列中的元素是否对称\n"
   ]
  },
  {
   "cell_type": "code",
   "execution_count": 77,
   "metadata": {},
   "outputs": [
    {
     "data": {
      "text/plain": [
       "True"
      ]
     },
     "execution_count": 77,
     "metadata": {},
     "output_type": "execute_result"
    }
   ],
   "source": [
    "from collections import deque\n",
    "\n",
    "def solution(arr):\n",
    "    root = build_tree(arr)\n",
    "    queue = deque([root])\n",
    "    layer = 0\n",
    "    while queue:\n",
    "        for _ in range(pow(2, layer)):\n",
    "            currrent = queue.popleft()\n",
    "            if currrent is None:\n",
    "                return False\n",
    "            queue.append(currrent.left)\n",
    "            queue.append(currrent.right)\n",
    "        layer += 1\n",
    "        # print(layer, [x.val for x in queue if x is not None])\n",
    "        \n",
    "        def compareQueue(queue):\n",
    "            for i in range(len(queue) // 2):\n",
    "                if queue[i] is not None and queue[-i - 1] is not None:\n",
    "                    if queue[i].val != queue[-i - 1].val:\n",
    "                        return False\n",
    "                elif queue[i] is None and queue[-i - 1] is not None:\n",
    "                    return False\n",
    "                elif queue[i] is not None and queue[-i - 1] is None:\n",
    "                    return False\n",
    "            return True\n",
    "        \n",
    "        if not compareQueue(queue):\n",
    "            return False\n",
    "        \n",
    "        if pow(2,layer+1)-1 == len(arr):\n",
    "            break\n",
    "\n",
    "    return True\n",
    "\n",
    "solution([1,2,2,3,4,4,3])"
   ]
  },
  {
   "cell_type": "code",
   "execution_count": 78,
   "metadata": {},
   "outputs": [
    {
     "data": {
      "text/plain": [
       "False"
      ]
     },
     "execution_count": 78,
     "metadata": {},
     "output_type": "execute_result"
    }
   ],
   "source": [
    "solution([1,2,2,None,3,None,3])"
   ]
  },
  {
   "cell_type": "markdown",
   "metadata": {},
   "source": [
    "---"
   ]
  },
  {
   "cell_type": "markdown",
   "metadata": {},
   "source": [
    "## 问题 11  \n",
    "\n",
    "给你一个由 '1'（陆地）和 '0'（水）组成的的二维网格，请你计算网格中岛屿的数量。岛屿总是被水包围，并且每座岛屿只能由水平方向和/或竖直方向上相邻的陆地连接形成。\n",
    "\n",
    "此外，你可以假设该网格的四条边均被水包围。\n",
    "\n",
    "分析算法设计思路，计算时间复杂度，并基于python编程实现\n",
    "\n",
    "e.g.:\n",
    "---\n",
    "1.\n",
    "输入：grid = [\n",
    "\n",
    "    [\"1\",\"1\",\"1\",\"1\",\"0\"],\n",
    "\n",
    "    [\"1\",\"1\",\"0\",\"1\",\"0\"], \n",
    "\n",
    "    [\"1\",\"1\",\"0\",\"0\",\"0\"], \n",
    "\n",
    "    [\"0\",\"0\",\"0\",\"0\",\"0\"]  \n",
    "\n",
    "]\n",
    "\n",
    "输出：1\n",
    "\n",
    "2.\n",
    "输入：grid = [\n",
    "\n",
    "    [\"1\",\"1\",\"0\",\"0\",\"0\"],\n",
    "\n",
    "    [\"1\",\"1\",\"0\",\"0\",\"0\"],\n",
    "\n",
    "    [\"0\",\"0\",\"1\",\"0\",\"0\"],\n",
    "\n",
    "    [\"0\",\"0\",\"0\",\"1\",\"1\"]\n",
    "\n",
    "]\n",
    "\n",
    "输出：3"
   ]
  },
  {
   "cell_type": "markdown",
   "metadata": {},
   "source": [
    "idea:\n",
    "\n",
    "dfs:\n",
    "\n",
    "- 遍历每个元素 `mapp[i][j]`\n",
    "- 如果 `mapp[i][j] == 1` :\n",
    "  - 计数器+1 \n",
    "  - 标记为0\n",
    "  - 递归搜索上下左右四个方向，连通的元素不改变计数器\n",
    "\n",
    "因为要遍历整个二维数组，时间复杂度为 $O(n*m)$ \n"
   ]
  },
  {
   "cell_type": "code",
   "execution_count": null,
   "metadata": {},
   "outputs": [
    {
     "data": {
      "text/plain": [
       "1"
      ]
     },
     "execution_count": 79,
     "metadata": {},
     "output_type": "execute_result"
    }
   ],
   "source": [
    "# add your code here\n",
    "# your algorithm time complexity is: O(n*m) (n := row, m := col)\n",
    "\n",
    "def solution(grid):\n",
    "    row = len(grid)\n",
    "    col = len(grid[0])\n",
    "    count = 0\n",
    "    \n",
    "    def dfs(i, j):\n",
    "        if i < 0 or j < 0 or i >= row or j >= col or grid[i][j] == '0':\n",
    "            return\n",
    "        grid[i][j] = '0'\n",
    "        dfs(i + 1, j)\n",
    "        dfs(i - 1, j)\n",
    "        dfs(i, j + 1)\n",
    "        dfs(i, j - 1)\n",
    "        \n",
    "    for i in range(row):\n",
    "        for j in range(col):\n",
    "            if grid[i][j] == '1':\n",
    "                dfs(i, j)\n",
    "                count += 1\n",
    "    return count\n",
    "\n",
    "solution([[\"1\",\"1\",\"1\",\"1\",\"0\"],\n",
    "          [\"1\",\"1\",\"0\",\"1\",\"0\"],\n",
    "          [\"1\",\"1\",\"0\",\"0\",\"0\"],\n",
    "          [\"0\",\"0\",\"0\",\"0\",\"0\"]])"
   ]
  },
  {
   "cell_type": "code",
   "execution_count": 80,
   "metadata": {},
   "outputs": [
    {
     "data": {
      "text/plain": [
       "3"
      ]
     },
     "execution_count": 80,
     "metadata": {},
     "output_type": "execute_result"
    }
   ],
   "source": [
    "solution( [\n",
    "\n",
    "    [\"1\",\"1\",\"0\",\"0\",\"0\"],\n",
    "\n",
    "    [\"1\",\"1\",\"0\",\"0\",\"0\"],\n",
    "\n",
    "    [\"0\",\"0\",\"1\",\"0\",\"0\"],\n",
    "\n",
    "    [\"0\",\"0\",\"0\",\"1\",\"1\"]\n",
    "\n",
    "] )"
   ]
  }
 ],
 "metadata": {
  "kernelspec": {
   "display_name": "daily38",
   "language": "python",
   "name": "python3"
  },
  "language_info": {
   "codemirror_mode": {
    "name": "ipython",
    "version": 3
   },
   "file_extension": ".py",
   "mimetype": "text/x-python",
   "name": "python",
   "nbconvert_exporter": "python",
   "pygments_lexer": "ipython3",
   "version": "3.8.20"
  }
 },
 "nbformat": 4,
 "nbformat_minor": 2
}
